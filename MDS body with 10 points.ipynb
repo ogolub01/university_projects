{
 "cells": [
  {
   "cell_type": "markdown",
   "id": "72d49f31",
   "metadata": {},
   "source": [
    "### Notes\n",
    "\n",
    "**Path**: `/Users/olga_golubova/Desktop/new data.xlsx`  \n",
    "**Number of Subjects**: 8\n",
    "\n",
    "**Data Source**:\n",
    "- **Raw Data**: Located in the tab \"raw data\". \n",
    "  - Column A1:A45 contains data for subject 1, B1:B45 for subject 2, and so on.\n",
    "- **Actual Coordinates**: Located in the tab \"actual\".\n",
    "  - For each subject, the first 10 rows in a column represent x coordinates, and the next 10 rows represent y coordinates.\n",
    "  - Example: \n",
    "    - Subject 1: x coordinates from A1:A10, y coordinates from A11:A20.\n",
    "    - Subject 2: x coordinates from B1:B10, y coordinates from B11:B20.\n",
    "    \n",
    "These coordinates are all same, and are taken from a random participant. I will need to get average male and average female person from the past study (MDS body) and re-run. This is just to check data is ok for further collection.\n",
    "\n",
    "**Procedure**:\n",
    "1. **Extract Actual Coordinates**:\n",
    "   For each subject, extract x and y coordinates for the actual map from the \"actual\" tab.\n",
    "\n",
    "2. **Convert Raw Data to Squareform**:\n",
    "   For each subject, convert the raw data into a squareform distance matrix.\n",
    "\n",
    "3. **Multidimensional Scaling (MDS)**:\n",
    "   Obtain coordinates and eigenvalues from the squareform matrices using MDS.\n",
    "\n",
    "4. **Variance Explained by Dimensions**:\n",
    "   Use the eigenvalues for all 10 dimensions to calculate the variance explained by each dimension.\n",
    "   Visualize the variance explained in a scree plot.\n",
    "\n",
    "5. **Procrustes Alignment**:\n",
    "   Perform Procrustes alignment between actual shapes and perceived shapes for each subject.\n",
    "\n",
    "6. **Generalized Procrustes Analysis (GPA)**:\n",
    "   Perform GPA for the actual shapes.\n",
    "   Perform GPA for the perceived shapes.\n",
    "\n",
    "**Visualization**:\n",
    "1. **Comparison of Actual and Perceived Shapes for Each Subject**:\n",
    "   Visualize the comparison in a 4 by 2 grid (4 rows and 2 columns) for easier visualization, given there are 8 subjects (at the moment).\n",
    "   Shapes should match as closely as possible, adjusting for rotation, scale, and position.\n",
    "\n",
    "2. **Mean Generalized Procrustes Alignment**:\n",
    "   Create a figure showing the mean GPA for actual and perceived shapes.\n",
    "   This figure should display the mean location of landmarks for each subject compared to the mean actual location of the landmarks.\n",
    "\n",
    "**Additional Notes**:\n",
    "\n",
    "- The code will be using 2D visualisation and analysis, but I am using 3D for now to check the data.\n",
    "\n",
    "**To do list**:\n",
    "\n",
    "- Simulations\n",
    "- Stat tests\n",
    "- Male and female\n",
    "- SESS questionnaire and analysis"
   ]
  },
  {
   "cell_type": "markdown",
   "id": "33e77ec7",
   "metadata": {},
   "source": [
    "## 2D Analysis and Visualization"
   ]
  },
  {
   "cell_type": "code",
   "execution_count": 4,
   "id": "1649368e",
   "metadata": {},
   "outputs": [],
   "source": [
    "import pandas as pd  # Importing pandas for data manipulation\n",
    "import numpy as np  # Importing numpy for numerical operations\n",
    "from scipy.spatial.distance import squareform  # Importing squareform to convert distance vectors to matrices\n",
    "from sklearn.manifold import MDS  # Importing MDS for multidimensional scaling\n",
    "from scipy.spatial import procrustes  # Importing procrustes for shape alignment\n",
    "from scipy.linalg import orthogonal_procrustes  # Importing orthogonal_procrustes for Procrustes analysis\n",
    "import matplotlib.pyplot as plt  # Importing matplotlib for plotting"
   ]
  },
  {
   "cell_type": "markdown",
   "id": "1e639918",
   "metadata": {},
   "source": [
    "Path to the Excel file"
   ]
  },
  {
   "cell_type": "code",
   "execution_count": 5,
   "id": "aa527238",
   "metadata": {},
   "outputs": [],
   "source": [
    "file_path = '/Users/olga_golubova/Desktop/new data.xlsx'\n",
    "num_subjects = 8  # Number of subjects"
   ]
  },
  {
   "cell_type": "markdown",
   "id": "06b07049",
   "metadata": {},
   "source": [
    "Reading the data from Excel"
   ]
  },
  {
   "cell_type": "code",
   "execution_count": 6,
   "id": "5a6b9ddf",
   "metadata": {},
   "outputs": [],
   "source": [
    "raw_data = pd.read_excel(file_path, sheet_name='raw data', header=None)  # Raw data\n",
    "actual_data = pd.read_excel(file_path, sheet_name='actual', header=None)  # Actual coordinates data"
   ]
  },
  {
   "cell_type": "markdown",
   "id": "9a11fb5e",
   "metadata": {},
   "source": [
    "Extracting x, y coordinates for each subject and storing them in a dictionary"
   ]
  },
  {
   "cell_type": "code",
   "execution_count": 7,
   "id": "57e063f9",
   "metadata": {},
   "outputs": [],
   "source": [
    "actual_coords = {\n",
    "    f'subject_{i+1}': np.column_stack((actual_data.iloc[:10, i].values, actual_data.iloc[10:20, i].values)) \n",
    "    for i in range(num_subjects)\n",
    "}"
   ]
  },
  {
   "cell_type": "markdown",
   "id": "ec83619c",
   "metadata": {},
   "source": [
    "Function to convert raw data to squareform matrix"
   ]
  },
  {
   "cell_type": "code",
   "execution_count": 8,
   "id": "9e69e361",
   "metadata": {},
   "outputs": [],
   "source": [
    "def raw_to_squareform(raw_column):\n",
    "    return squareform(raw_column)"
   ]
  },
  {
   "cell_type": "markdown",
   "id": "e29ceae3",
   "metadata": {},
   "source": [
    "Function to perform multidimensional scaling"
   ]
  },
  {
   "cell_type": "code",
   "execution_count": 9,
   "id": "597751c6",
   "metadata": {},
   "outputs": [],
   "source": [
    "def mds_coordinates(squareform_matrix):\n",
    "    mds = MDS(dissimilarity='precomputed', random_state=0)\n",
    "    return mds.fit_transform(squareform_matrix)"
   ]
  },
  {
   "cell_type": "markdown",
   "id": "b4a71f1f",
   "metadata": {},
   "source": [
    "Function to perform Procrustes alignment"
   ]
  },
  {
   "cell_type": "code",
   "execution_count": 10,
   "id": "ccf8c9e5",
   "metadata": {},
   "outputs": [],
   "source": [
    "def procrustes_alignment(target, source):\n",
    "    mtx1, mtx2, disparity = procrustes(target, source)\n",
    "    return mtx1, mtx2, disparity"
   ]
  },
  {
   "cell_type": "markdown",
   "id": "4850eda9",
   "metadata": {},
   "source": [
    "Extract raw data, perform MDS and Procrustes alignment"
   ]
  },
  {
   "cell_type": "code",
   "execution_count": 11,
   "id": "39e1c274",
   "metadata": {},
   "outputs": [],
   "source": [
    "raw_coords = {}\n",
    "mds_coords = {}\n",
    "procrustes_results = {}\n",
    "\n",
    "for i in range(num_subjects):\n",
    "    raw_column = raw_data.iloc[:, i].values  # Get raw data column for each subject\n",
    "    squareform_matrix = raw_to_squareform(raw_column)  # Convert to squareform matrix\n",
    "    coords = mds_coordinates(squareform_matrix)  # Perform MDS to get coordinates\n",
    "    raw_coords[f'subject_{i+1}'] = coords  # Store MDS coordinates\n",
    "    target_coords = actual_coords[f'subject_{i+1}']  # Get actual coordinates\n",
    "    mtx1, mtx2, disparity = procrustes_alignment(target_coords, coords)  # Align actual and perceived coordinates\n",
    "    procrustes_results[f'subject_{i+1}'] = (mtx1, mtx2, disparity)  # Store Procrustes results\n",
    "    mds_coords[f'subject_{i+1}'] = coords  # Store MDS coordinates"
   ]
  },
  {
   "cell_type": "markdown",
   "id": "bdd9c684",
   "metadata": {},
   "source": [
    "Visualize the results for each subject"
   ]
  },
  {
   "cell_type": "code",
   "execution_count": 25,
   "id": "6b862ee6",
   "metadata": {},
   "outputs": [
    {
     "data": {
      "image/png": "[encoded data removed]",
      "text/plain": [
       "<Figure size 1200x1600 with 8 Axes>"
      ]
     },
     "metadata": {},
     "output_type": "display_data"
    }
   ],
   "source": [
    "fig, axes = plt.subplots(4, 2, figsize=(12, 16))  # Create a 4x2 grid of subplots\n",
    "for i, (subject, (actual, perceived, _)) in enumerate(procrustes_results.items()):\n",
    "    ax = axes.flatten()[i]  # Flatten the grid to easily access subplots\n",
    "    ax.scatter(actual[:, 0], actual[:, 1], color='blue', label='Actual')  # Plot actual coordinates in blue\n",
    "    ax.scatter(perceived[:, 0], perceived[:, 1], color='red', label='Perceived')  # Plot perceived coordinates in red\n",
    "    for (x_actual, y_actual), (x_perceived, y_perceived) in zip(actual, perceived):\n",
    "        ax.plot([x_actual, x_perceived], [y_actual, y_perceived], color='gray', linestyle='--', linewidth=0.5)  # Draw connecting lines\n",
    "    ax.legend()  # Add legend\n",
    "    ax.set_title(f'Subject {i+1}')  # Set title for each subplot\n",
    "plt.tight_layout()  # Adjust subplots to fit in the figure area\n",
    "plt.show()  # Display the plot"
   ]
  },
  {
   "cell_type": "markdown",
   "id": "1a27f1dc",
   "metadata": {},
   "source": [
    "Function to perform generalized Procrustes analysis with scaling"
   ]
  },
  {
   "cell_type": "code",
   "execution_count": 13,
   "id": "21529fdd",
   "metadata": {},
   "outputs": [],
   "source": [
    "def generalized_procrustes_analysis(shapes):\n",
    "    shapes_centered = [shape - shape.mean(axis=0) for shape in shapes]  # Center each shape by subtracting the mean\n",
    "    shapes_normalized = [shape / np.linalg.norm(shape) for shape in shapes_centered]  # Normalize each shape\n",
    "    mean_shape = np.mean(shapes_normalized, axis=0)  # Calculate the initial mean shape\n",
    "    for _ in range(10):  # Perform 10 iterations for alignment\n",
    "        aligned_shapes = [shape @ orthogonal_procrustes(mean_shape, shape)[0] for shape in shapes_normalized]  # Align shapes\n",
    "        new_mean_shape = np.mean(aligned_shapes, axis=0)  # Calculate new mean shape\n",
    "        if np.allclose(mean_shape, new_mean_shape, atol=1e-6):  # Check for convergence\n",
    "            break\n",
    "        mean_shape = new_mean_shape  # Update mean shape\n",
    "    return mean_shape, aligned_shapes  # Return mean shape and aligned shapes"
   ]
  },
  {
   "cell_type": "markdown",
   "id": "cf87a1a6",
   "metadata": {},
   "source": [
    "Function to align perceived shape to the actual shape using Procrustes analysis"
   ]
  },
  {
   "cell_type": "code",
   "execution_count": 14,
   "id": "252ea603",
   "metadata": {},
   "outputs": [],
   "source": [
    "def align_shapes(target_shape, source_shape):\n",
    "    matrix, _ = orthogonal_procrustes(target_shape, source_shape)\n",
    "    return source_shape @ matrix"
   ]
  },
  {
   "cell_type": "markdown",
   "id": "700ff223",
   "metadata": {},
   "source": [
    "Prepare the shapes for GPA and perform GPA"
   ]
  },
  {
   "cell_type": "code",
   "execution_count": 15,
   "id": "fe45dd5b",
   "metadata": {},
   "outputs": [],
   "source": [
    "actual_shapes = list(actual_coords.values())  # Collect actual shapes\n",
    "perceived_shapes = list(raw_coords.values())  # Collect perceived shapes"
   ]
  },
  {
   "cell_type": "markdown",
   "id": "919af9a3",
   "metadata": {},
   "source": [
    "Perform GPA for 2D shapes"
   ]
  },
  {
   "cell_type": "code",
   "execution_count": 16,
   "id": "73a12f0a",
   "metadata": {},
   "outputs": [],
   "source": [
    "mean_actual_shape, aligned_actual_shapes = generalized_procrustes_analysis(actual_shapes)\n",
    "mean_perceived_shape, aligned_perceived_shapes = generalized_procrustes_analysis(perceived_shapes)\n",
    "aligned_mean_perceived_shape = align_shapes(mean_actual_shape, mean_perceived_shape)"
   ]
  },
  {
   "cell_type": "markdown",
   "id": "29661ffd",
   "metadata": {},
   "source": [
    "Visualize the mean shapes"
   ]
  },
  {
   "cell_type": "code",
   "execution_count": 17,
   "id": "cd508397",
   "metadata": {},
   "outputs": [
    {
     "data": {
      "image/png": "[encoded data removed]",
      "text/plain": [
       "<Figure size 800x800 with 1 Axes>"
      ]
     },
     "metadata": {},
     "output_type": "display_data"
    }
   ],
   "source": [
    "plt.figure(figsize=(8, 8))\n",
    "plt.scatter(mean_actual_shape[:, 0], mean_actual_shape[:, 1], color='blue', label='Mean Actual Shape')\n",
    "plt.scatter(aligned_mean_perceived_shape[:, 0], aligned_mean_perceived_shape[:, 1], color='red', label='Mean Perceived Shape')\n",
    "for (x_actual, y_actual), (x_perceived, y_perceived) in zip(mean_actual_shape, aligned_mean_perceived_shape):\n",
    "    plt.plot([x_actual, x_perceived], [y_actual, y_perceived], color='gray', linestyle='--', linewidth=0.5)\n",
    "connections = [(0, 9), (9, 8), (9, 6), (6, 5), (6, 7), (7, 3), (3, 4), (0, 1), (1, 2), (3, 1)]\n",
    "for start, end in connections:\n",
    "    plt.plot([mean_actual_shape[start, 0], mean_actual_shape[end, 0]], [mean_actual_shape[start, 1], mean_actual_shape[end, 1]], color='blue')\n",
    "    plt.plot([aligned_mean_perceived_shape[start, 0], aligned_mean_perceived_shape[end, 0]], [aligned_mean_perceived_shape[start, 1], aligned_mean_perceived_shape[end, 1]], color='red')\n",
    "for idx, (x, y) in enumerate(mean_actual_shape):\n",
    "    plt.text(x, y, str(idx + 1), color='blue', fontsize=8, ha='right', va='bottom', alpha=0.6)\n",
    "plt.legend()\n",
    "plt.title('Generalized Procrustes Analysis: Mean Shapes with Connections')\n",
    "plt.show()"
   ]
  },
  {
   "cell_type": "markdown",
   "id": "2aa12c96",
   "metadata": {},
   "source": [
    "Function to perform MDS and return eigenvalues"
   ]
  },
  {
   "cell_type": "code",
   "execution_count": 18,
   "id": "d84ed4b6",
   "metadata": {},
   "outputs": [],
   "source": [
    "def mds_eigenvalues(squareform_matrix, n_components=10):\n",
    "    mds = MDS(dissimilarity='precomputed', n_components=n_components, random_state=0)\n",
    "    coords = mds.fit_transform(squareform_matrix)\n",
    "    stress = mds.stress_\n",
    "    eigenvalues = stress / (np.arange(1, n_components + 1) ** 2)\n",
    "    return eigenvalues"
   ]
  },
  {
   "cell_type": "markdown",
   "id": "0e872f82",
   "metadata": {},
   "source": [
    "Extract raw data for each subject and calculate eigenvalues"
   ]
  },
  {
   "cell_type": "code",
   "execution_count": 19,
   "id": "69fb7b37",
   "metadata": {},
   "outputs": [],
   "source": [
    "eigenvalues_all_subjects = np.array([mds_eigenvalues(raw_to_squareform(raw_data.iloc[:, i].values)) for i in range(num_subjects)])\n",
    "avg_eigenvalues = np.mean(eigenvalues_all_subjects, axis=0)\n",
    "sem_eigenvalues = np.std(eigenvalues_all_subjects, axis=0, ddof=1) / np.sqrt(num_subjects)\n",
    "variance_explained = (avg_eigenvalues / np.sum(avg_eigenvalues)) * 100\n",
    "sem_variance_explained = (sem_eigenvalues / np.sum(avg_eigenvalues)) * 100"
   ]
  },
  {
   "cell_type": "markdown",
   "id": "6f3c6568",
   "metadata": {},
   "source": [
    "Plot the scree plot with error bars"
   ]
  },
  {
   "cell_type": "code",
   "execution_count": 20,
   "id": "514c17ba",
   "metadata": {},
   "outputs": [
    {
     "data": {
      "image/png": "[encoded data removed]",
      "text/plain": [
       "<Figure size 1000x600 with 1 Axes>"
      ]
     },
     "metadata": {},
     "output_type": "display_data"
    }
   ],
   "source": [
    "plt.figure(figsize=(10, 6))\n",
    "plt.errorbar(range(1, len(variance_explained) + 1), variance_explained, yerr=sem_variance_explained, fmt='o-', color='b', label='MDS Solutions', capsize=5)\n",
    "plt.xlabel('Dimension')\n",
    "plt.ylabel('% Variance Explained')\n",
    "plt.title('Scree Plot with Error Bars')\n",
    "plt.legend()\n",
    "plt.grid(True)\n",
    "plt.show()"
   ]
  },
  {
   "cell_type": "markdown",
   "id": "746f5470",
   "metadata": {},
   "source": [
    "# 3D Visualisation \n",
    "(sanity check)"
   ]
  },
  {
   "cell_type": "code",
   "execution_count": 27,
   "id": "4f3125fa",
   "metadata": {},
   "outputs": [],
   "source": [
    "import pandas as pd  # Importing pandas for data manipulation\n",
    "import numpy as np  # Importing numpy for numerical operations\n",
    "from scipy.spatial.distance import squareform  # Importing squareform to convert distance vectors to matrices\n",
    "from sklearn.manifold import MDS  # Importing MDS for multidimensional scaling\n",
    "from scipy.spatial import procrustes  # Importing procrustes for shape alignment\n",
    "from scipy.linalg import orthogonal_procrustes  # Importing orthogonal_procrustes for Procrustes analysis\n",
    "import plotly.graph_objects as go  # Importing plotly for interactive 3D plots"
   ]
  },
  {
   "cell_type": "markdown",
   "id": "4729473d",
   "metadata": {},
   "source": [
    "Path to the Excel file"
   ]
  },
  {
   "cell_type": "code",
   "execution_count": 28,
   "id": "10425dd1",
   "metadata": {},
   "outputs": [],
   "source": [
    "file_path = '/Users/olga_golubova/Desktop/new data.xlsx'\n",
    "num_subjects = 8  # Number of subjects"
   ]
  },
  {
   "cell_type": "markdown",
   "id": "fbbd798c",
   "metadata": {},
   "source": [
    "Reading the data from Excel"
   ]
  },
  {
   "cell_type": "code",
   "execution_count": 29,
   "id": "83210ede",
   "metadata": {},
   "outputs": [],
   "source": [
    "raw_data = pd.read_excel(file_path, sheet_name='raw data', header=None)  # Raw data\n",
    "actual_data = pd.read_excel(file_path, sheet_name='actual', header=None)  # Actual coordinates data"
   ]
  },
  {
   "cell_type": "markdown",
   "id": "5c2341e2",
   "metadata": {},
   "source": [
    "Extracting x, y, z coordinates for each subject and storing them in a dictionary. Dimension Z has zeros in actual data "
   ]
  },
  {
   "cell_type": "code",
   "execution_count": 30,
   "id": "478a4d91",
   "metadata": {},
   "outputs": [],
   "source": [
    "actual_coords_3d = {\n",
    "    f'subject_{i+1}': np.column_stack((actual_data.iloc[:10, i].values, actual_data.iloc[10:20, i].values, np.zeros(10))) \n",
    "    for i in range(num_subjects)\n",
    "}"
   ]
  },
  {
   "cell_type": "markdown",
   "id": "34cf08f1",
   "metadata": {},
   "source": [
    "Function to convert raw data to squareform matrix"
   ]
  },
  {
   "cell_type": "code",
   "execution_count": 31,
   "id": "b5c01b12",
   "metadata": {},
   "outputs": [],
   "source": [
    "def raw_to_squareform(raw_column):\n",
    "    return squareform(raw_column)"
   ]
  },
  {
   "cell_type": "markdown",
   "id": "8743f56a",
   "metadata": {},
   "source": [
    "Function to perform multidimensional scaling"
   ]
  },
  {
   "cell_type": "code",
   "execution_count": 32,
   "id": "5c2cb141",
   "metadata": {},
   "outputs": [],
   "source": [
    "def mds_coordinates_3d(squareform_matrix):\n",
    "    mds = MDS(dissimilarity='precomputed', n_components=3, random_state=0)\n",
    "    return mds.fit_transform(squareform_matrix)"
   ]
  },
  {
   "cell_type": "markdown",
   "id": "ee7aae67",
   "metadata": {},
   "source": [
    "Extract raw data, perform MDS and prepare for Procrustes alignment"
   ]
  },
  {
   "cell_type": "code",
   "execution_count": 33,
   "id": "c9e42172",
   "metadata": {},
   "outputs": [],
   "source": [
    "perceived_coords_3d = {\n",
    "    f'subject_{i+1}': mds_coordinates_3d(raw_to_squareform(raw_data.iloc[:, i].values)) \n",
    "    for i in range(num_subjects)\n",
    "}"
   ]
  },
  {
   "cell_type": "markdown",
   "id": "9d57ee67",
   "metadata": {},
   "source": [
    "Function to perform generalized Procrustes analysis with scaling"
   ]
  },
  {
   "cell_type": "code",
   "execution_count": 34,
   "id": "cf48eb9d",
   "metadata": {},
   "outputs": [],
   "source": [
    "def generalized_procrustes_analysis(shapes):\n",
    "    shapes_centered = [shape - shape.mean(axis=0) for shape in shapes]  # Center each shape by subtracting the mean\n",
    "    shapes_normalized = [shape / np.linalg.norm(shape) for shape in shapes_centered]  # Normalize each shape\n",
    "    mean_shape = np.mean(shapes_normalized, axis=0)  # Calculate the initial mean shape\n",
    "    for _ in range(10):  # Perform 10 iterations for alignment\n",
    "        aligned_shapes = [shape @ orthogonal_procrustes(mean_shape, shape)[0] for shape in shapes_normalized]  # Align shapes\n",
    "        new_mean_shape = np.mean(aligned_shapes, axis=0)  # Calculate new mean shape\n",
    "        if np.allclose(mean_shape, new_mean_shape, atol=1e-6):  # Check for convergence\n",
    "            break\n",
    "        mean_shape = new_mean_shape  # Update mean shape\n",
    "    return mean_shape, aligned_shapes  # Return mean shape and aligned shapes"
   ]
  },
  {
   "cell_type": "markdown",
   "id": "3ac96697",
   "metadata": {},
   "source": [
    "Function to align perceived shape to the actual shape using Procrustes analysis"
   ]
  },
  {
   "cell_type": "code",
   "execution_count": 35,
   "id": "c3107d5a",
   "metadata": {},
   "outputs": [],
   "source": [
    "def align_shapes(target_shape, source_shape):\n",
    "    matrix, _ = orthogonal_procrustes(target_shape, source_shape)\n",
    "    return source_shape @ matrix"
   ]
  },
  {
   "cell_type": "markdown",
   "id": "6e572e5f",
   "metadata": {},
   "source": [
    "Perform GPA for 3D shapes"
   ]
  },
  {
   "cell_type": "code",
   "execution_count": 36,
   "id": "120660f4",
   "metadata": {},
   "outputs": [],
   "source": [
    "mean_actual_shape_3d, _ = generalized_procrustes_analysis(list(actual_coords_3d.values()))\n",
    "mean_perceived_shape_3d, _ = generalized_procrustes_analysis(list(perceived_coords_3d.values()))\n",
    "aligned_mean_perceived_shape_3d = align_shapes(mean_actual_shape_3d, mean_perceived_shape_3d)"
   ]
  },
  {
   "cell_type": "markdown",
   "id": "2098eb42",
   "metadata": {},
   "source": [
    "Create a 3D scatter plot using Plotly"
   ]
  },
  {
   "cell_type": "code",
   "execution_count": 38,
   "id": "e05388b7",
   "metadata": {},
   "outputs": [],
   "source": [
    "fig = go.Figure()"
   ]
  },
  {
   "cell_type": "markdown",
   "id": "d4f50da5",
   "metadata": {},
   "source": [
    "Add mean actual shape points"
   ]
  },
  {
   "cell_type": "code",
   "execution_count": 39,
   "id": "bec3cb23",
   "metadata": {},
   "outputs": [
    {
     "data": {
      "application/vnd.plotly.v1+json": {
       "config": {
        "plotlyServerURL": "https://plot.ly"
       },
       "data": [
        {
         "marker": {
          "color": "blue",
          "size": 5
         },
         "mode": "markers+text",
         "name": "Mean Actual Shape",
         "text": [
          "1",
          "2",
          "3",
          "4",
          "5",
          "6",
          "7",
          "8",
          "9",
          "10"
         ],
         "textposition": "top center",
         "type": "scatter3d",
         "x": [
          0.007761423598200137,
          0.12270908954622806,
          0.12369154822954513,
          0.08635811826351808,
          0.03920010146432742,
          -0.04136151056762372,
          -0.08360723395023226,
          -9.8245868331672e-05,
          -0.14058983758258814,
          -0.11406345313304307
         ],
         "y": [
          0.45792399229381026,
          0.31546748321292106,
          -0.15856883148727907,
          0.05167732674244697,
          -0.47099069278191935,
          -0.47295561014855236,
          0.05069486805912985,
          0.08016862855862482,
          -0.16839341832044435,
          0.3149762538712625
         ],
         "z": [
          0,
          0,
          0,
          0,
          0,
          0,
          0,
          0,
          0,
          0
         ]
        }
       ],
       "layout": {
        "template": {
         "data": {
          "bar": [
           {
            "error_x": {
             "color": "#2a3f5f"
            },
            "error_y": {
             "color": "#2a3f5f"
            },
            "marker": {
             "line": {
              "color": "#E5ECF6",
              "width": 0.5
             },
             "pattern": {
              "fillmode": "overlay",
              "size": 10,
              "solidity": 0.2
             }
            },
            "type": "bar"
           }
          ],
          "barpolar": [
           {
            "marker": {
             "line": {
              "color": "#E5ECF6",
              "width": 0.5
             },
             "pattern": {
              "fillmode": "overlay",
              "size": 10,
              "solidity": 0.2
             }
            },
            "type": "barpolar"
           }
          ],
          "carpet": [
           {
            "aaxis": {
             "endlinecolor": "#2a3f5f",
             "gridcolor": "white",
             "linecolor": "white",
             "minorgridcolor": "white",
             "startlinecolor": "#2a3f5f"
            },
            "baxis": {
             "endlinecolor": "#2a3f5f",
             "gridcolor": "white",
             "linecolor": "white",
             "minorgridcolor": "white",
             "startlinecolor": "#2a3f5f"
            },
            "type": "carpet"
           }
          ],
          "choropleth": [
           {
            "colorbar": {
             "outlinewidth": 0,
             "ticks": ""
            },
            "type": "choropleth"
           }
          ],
          "contour": [
           {
            "colorbar": {
             "outlinewidth": 0,
             "ticks": ""
            },
            "colorscale": [
             [
              0,
              "#0d0887"
             ],
             [
              0.1111111111111111,
              "#46039f"
             ],
             [
              0.2222222222222222,
              "#7201a8"
             ],
             [
              0.3333333333333333,
              "#9c179e"
             ],
             [
              0.4444444444444444,
              "#bd3786"
             ],
             [
              0.5555555555555556,
              "#d8576b"
             ],
             [
              0.6666666666666666,
              "#ed7953"
             ],
             [
              0.7777777777777778,
              "#fb9f3a"
             ],
             [
              0.8888888888888888,
              "#fdca26"
             ],
             [
              1,
              "#f0f921"
             ]
            ],
            "type": "contour"
           }
          ],
          "contourcarpet": [
           {
            "colorbar": {
             "outlinewidth": 0,
             "ticks": ""
            },
            "type": "contourcarpet"
           }
          ],
          "heatmap": [
           {
            "colorbar": {
             "outlinewidth": 0,
             "ticks": ""
            },
            "colorscale": [
             [
              0,
              "#0d0887"
             ],
             [
              0.1111111111111111,
              "#46039f"
             ],
             [
              0.2222222222222222,
              "#7201a8"
             ],
             [
              0.3333333333333333,
              "#9c179e"
             ],
             [
              0.4444444444444444,
              "#bd3786"
             ],
             [
              0.5555555555555556,
              "#d8576b"
             ],
             [
              0.6666666666666666,
              "#ed7953"
             ],
             [
              0.7777777777777778,
              "#fb9f3a"
             ],
             [
              0.8888888888888888,
              "#fdca26"
             ],
             [
              1,
              "#f0f921"
             ]
            ],
            "type": "heatmap"
           }
          ],
          "heatmapgl": [
           {
            "colorbar": {
             "outlinewidth": 0,
             "ticks": ""
            },
            "colorscale": [
             [
              0,
              "#0d0887"
             ],
             [
              0.1111111111111111,
              "#46039f"
             ],
             [
              0.2222222222222222,
              "#7201a8"
             ],
             [
              0.3333333333333333,
              "#9c179e"
             ],
             [
              0.4444444444444444,
              "#bd3786"
             ],
             [
              0.5555555555555556,
              "#d8576b"
             ],
             [
              0.6666666666666666,
              "#ed7953"
             ],
             [
              0.7777777777777778,
              "#fb9f3a"
             ],
             [
              0.8888888888888888,
              "#fdca26"
             ],
             [
              1,
              "#f0f921"
             ]
            ],
            "type": "heatmapgl"
           }
          ],
          "histogram": [
           {
            "marker": {
             "pattern": {
              "fillmode": "overlay",
              "size": 10,
              "solidity": 0.2
             }
            },
            "type": "histogram"
           }
          ],
          "histogram2d": [
           {
            "colorbar": {
             "outlinewidth": 0,
             "ticks": ""
            },
            "colorscale": [
             [
              0,
              "#0d0887"
             ],
             [
              0.1111111111111111,
              "#46039f"
             ],
             [
              0.2222222222222222,
              "#7201a8"
             ],
             [
              0.3333333333333333,
              "#9c179e"
             ],
             [
              0.4444444444444444,
              "#bd3786"
             ],
             [
              0.5555555555555556,
              "#d8576b"
             ],
             [
              0.6666666666666666,
              "#ed7953"
             ],
             [
              0.7777777777777778,
              "#fb9f3a"
             ],
             [
              0.8888888888888888,
              "#fdca26"
             ],
             [
              1,
              "#f0f921"
             ]
            ],
            "type": "histogram2d"
           }
          ],
          "histogram2dcontour": [
           {
            "colorbar": {
             "outlinewidth": 0,
             "ticks": ""
            },
            "colorscale": [
             [
              0,
              "#0d0887"
             ],
             [
              0.1111111111111111,
              "#46039f"
             ],
             [
              0.2222222222222222,
              "#7201a8"
             ],
             [
              0.3333333333333333,
              "#9c179e"
             ],
             [
              0.4444444444444444,
              "#bd3786"
             ],
             [
              0.5555555555555556,
              "#d8576b"
             ],
             [
              0.6666666666666666,
              "#ed7953"
             ],
             [
              0.7777777777777778,
              "#fb9f3a"
             ],
             [
              0.8888888888888888,
              "#fdca26"
             ],
             [
              1,
              "#f0f921"
             ]
            ],
            "type": "histogram2dcontour"
           }
          ],
          "mesh3d": [
           {
            "colorbar": {
             "outlinewidth": 0,
             "ticks": ""
            },
            "type": "mesh3d"
           }
          ],
          "parcoords": [
           {
            "line": {
             "colorbar": {
              "outlinewidth": 0,
              "ticks": ""
             }
            },
            "type": "parcoords"
           }
          ],
          "pie": [
           {
            "automargin": true,
            "type": "pie"
           }
          ],
          "scatter": [
           {
            "fillpattern": {
             "fillmode": "overlay",
             "size": 10,
             "solidity": 0.2
            },
            "type": "scatter"
           }
          ],
          "scatter3d": [
           {
            "line": {
             "colorbar": {
              "outlinewidth": 0,
              "ticks": ""
             }
            },
            "marker": {
             "colorbar": {
              "outlinewidth": 0,
              "ticks": ""
             }
            },
            "type": "scatter3d"
           }
          ],
          "scattercarpet": [
           {
            "marker": {
             "colorbar": {
              "outlinewidth": 0,
              "ticks": ""
             }
            },
            "type": "scattercarpet"
           }
          ],
          "scattergeo": [
           {
            "marker": {
             "colorbar": {
              "outlinewidth": 0,
              "ticks": ""
             }
            },
            "type": "scattergeo"
           }
          ],
          "scattergl": [
           {
            "marker": {
             "colorbar": {
              "outlinewidth": 0,
              "ticks": ""
             }
            },
            "type": "scattergl"
           }
          ],
          "scattermapbox": [
           {
            "marker": {
             "colorbar": {
              "outlinewidth": 0,
              "ticks": ""
             }
            },
            "type": "scattermapbox"
           }
          ],
          "scatterpolar": [
           {
            "marker": {
             "colorbar": {
              "outlinewidth": 0,
              "ticks": ""
             }
            },
            "type": "scatterpolar"
           }
          ],
          "scatterpolargl": [
           {
            "marker": {
             "colorbar": {
              "outlinewidth": 0,
              "ticks": ""
             }
            },
            "type": "scatterpolargl"
           }
          ],
          "scatterternary": [
           {
            "marker": {
             "colorbar": {
              "outlinewidth": 0,
              "ticks": ""
             }
            },
            "type": "scatterternary"
           }
          ],
          "surface": [
           {
            "colorbar": {
             "outlinewidth": 0,
             "ticks": ""
            },
            "colorscale": [
             [
              0,
              "#0d0887"
             ],
             [
              0.1111111111111111,
              "#46039f"
             ],
             [
              0.2222222222222222,
              "#7201a8"
             ],
             [
              0.3333333333333333,
              "#9c179e"
             ],
             [
              0.4444444444444444,
              "#bd3786"
             ],
             [
              0.5555555555555556,
              "#d8576b"
             ],
             [
              0.6666666666666666,
              "#ed7953"
             ],
             [
              0.7777777777777778,
              "#fb9f3a"
             ],
             [
              0.8888888888888888,
              "#fdca26"
             ],
             [
              1,
              "#f0f921"
             ]
            ],
            "type": "surface"
           }
          ],
          "table": [
           {
            "cells": {
             "fill": {
              "color": "#EBF0F8"
             },
             "line": {
              "color": "white"
             }
            },
            "header": {
             "fill": {
              "color": "#C8D4E3"
             },
             "line": {
              "color": "white"
             }
            },
            "type": "table"
           }
          ]
         },
         "layout": {
          "annotationdefaults": {
           "arrowcolor": "#2a3f5f",
           "arrowhead": 0,
           "arrowwidth": 1
          },
          "autotypenumbers": "strict",
          "coloraxis": {
           "colorbar": {
            "outlinewidth": 0,
            "ticks": ""
           }
          },
          "colorscale": {
           "diverging": [
            [
             0,
             "#8e0152"
            ],
            [
             0.1,
             "#c51b7d"
            ],
            [
             0.2,
             "#de77ae"
            ],
            [
             0.3,
             "#f1b6da"
            ],
            [
             0.4,
             "#fde0ef"
            ],
            [
             0.5,
             "#f7f7f7"
            ],
            [
             0.6,
             "#e6f5d0"
            ],
            [
             0.7,
             "#b8e186"
            ],
            [
             0.8,
             "#7fbc41"
            ],
            [
             0.9,
             "#4d9221"
            ],
            [
             1,
             "#276419"
            ]
           ],
           "sequential": [
            [
             0,
             "#0d0887"
            ],
            [
             0.1111111111111111,
             "#46039f"
            ],
            [
             0.2222222222222222,
             "#7201a8"
            ],
            [
             0.3333333333333333,
             "#9c179e"
            ],
            [
             0.4444444444444444,
             "#bd3786"
            ],
            [
             0.5555555555555556,
             "#d8576b"
            ],
            [
             0.6666666666666666,
             "#ed7953"
            ],
            [
             0.7777777777777778,
             "#fb9f3a"
            ],
            [
             0.8888888888888888,
             "#fdca26"
            ],
            [
             1,
             "#f0f921"
            ]
           ],
           "sequentialminus": [
            [
             0,
             "#0d0887"
            ],
            [
             0.1111111111111111,
             "#46039f"
            ],
            [
             0.2222222222222222,
             "#7201a8"
            ],
            [
             0.3333333333333333,
             "#9c179e"
            ],
            [
             0.4444444444444444,
             "#bd3786"
            ],
            [
             0.5555555555555556,
             "#d8576b"
            ],
            [
             0.6666666666666666,
             "#ed7953"
            ],
            [
             0.7777777777777778,
             "#fb9f3a"
            ],
            [
             0.8888888888888888,
             "#fdca26"
            ],
            [
             1,
             "#f0f921"
            ]
           ]
          },
          "colorway": [
           "#636efa",
           "#EF553B",
           "#00cc96",
           "#ab63fa",
           "#FFA15A",
           "#19d3f3",
           "#FF6692",
           "#B6E880",
           "#FF97FF",
           "#FECB52"
          ],
          "font": {
           "color": "#2a3f5f"
          },
          "geo": {
           "bgcolor": "white",
           "lakecolor": "white",
           "landcolor": "#E5ECF6",
           "showlakes": true,
           "showland": true,
           "subunitcolor": "white"
          },
          "hoverlabel": {
           "align": "left"
          },
          "hovermode": "closest",
          "mapbox": {
           "style": "light"
          },
          "paper_bgcolor": "white",
          "plot_bgcolor": "#E5ECF6",
          "polar": {
           "angularaxis": {
            "gridcolor": "white",
            "linecolor": "white",
            "ticks": ""
           },
           "bgcolor": "#E5ECF6",
           "radialaxis": {
            "gridcolor": "white",
            "linecolor": "white",
            "ticks": ""
           }
          },
          "scene": {
           "xaxis": {
            "backgroundcolor": "#E5ECF6",
            "gridcolor": "white",
            "gridwidth": 2,
            "linecolor": "white",
            "showbackground": true,
            "ticks": "",
            "zerolinecolor": "white"
           },
           "yaxis": {
            "backgroundcolor": "#E5ECF6",
            "gridcolor": "white",
            "gridwidth": 2,
            "linecolor": "white",
            "showbackground": true,
            "ticks": "",
            "zerolinecolor": "white"
           },
           "zaxis": {
            "backgroundcolor": "#E5ECF6",
            "gridcolor": "white",
            "gridwidth": 2,
            "linecolor": "white",
            "showbackground": true,
            "ticks": "",
            "zerolinecolor": "white"
           }
          },
          "shapedefaults": {
           "line": {
            "color": "#2a3f5f"
           }
          },
          "ternary": {
           "aaxis": {
            "gridcolor": "white",
            "linecolor": "white",
            "ticks": ""
           },
           "baxis": {
            "gridcolor": "white",
            "linecolor": "white",
            "ticks": ""
           },
           "bgcolor": "#E5ECF6",
           "caxis": {
            "gridcolor": "white",
            "linecolor": "white",
            "ticks": ""
           }
          },
          "title": {
           "x": 0.05
          },
          "xaxis": {
           "automargin": true,
           "gridcolor": "white",
           "linecolor": "white",
           "ticks": "",
           "title": {
            "standoff": 15
           },
           "zerolinecolor": "white",
           "zerolinewidth": 2
          },
          "yaxis": {
           "automargin": true,
           "gridcolor": "white",
           "linecolor": "white",
           "ticks": "",
           "title": {
            "standoff": 15
           },
           "zerolinecolor": "white",
           "zerolinewidth": 2
          }
         }
        }
       }
      },
      "text/html": [
       "<div>                            <div id=\"f7de1bb5-b9b8-45ea-81fd-b107d81bf78f\" class=\"plotly-graph-div\" style=\"height:525px; width:100%;\"></div>            <script type=\"text/javascript\">                require([\"plotly\"], function(Plotly) {                    window.PLOTLYENV=window.PLOTLYENV || {};                                    if (document.getElementById(\"f7de1bb5-b9b8-45ea-81fd-b107d81bf78f\")) {                    Plotly.newPlot(                        \"f7de1bb5-b9b8-45ea-81fd-b107d81bf78f\",                        [{\"marker\":{\"color\":\"blue\",\"size\":5},\"mode\":\"markers+text\",\"name\":\"Mean Actual Shape\",\"text\":[\"1\",\"2\",\"3\",\"4\",\"5\",\"6\",\"7\",\"8\",\"9\",\"10\"],\"textposition\":\"top center\",\"x\":[0.007761423598200137,0.12270908954622806,0.12369154822954513,0.08635811826351808,0.03920010146432742,-0.04136151056762372,-0.08360723395023226,-9.8245868331672e-05,-0.14058983758258814,-0.11406345313304307],\"y\":[0.45792399229381026,0.31546748321292106,-0.15856883148727907,0.05167732674244697,-0.47099069278191935,-0.47295561014855236,0.05069486805912985,0.08016862855862482,-0.16839341832044435,0.3149762538712625],\"z\":[0.0,0.0,0.0,0.0,0.0,0.0,0.0,0.0,0.0,0.0],\"type\":\"scatter3d\"}],                        {\"template\":{\"data\":{\"histogram2dcontour\":[{\"type\":\"histogram2dcontour\",\"colorbar\":{\"outlinewidth\":0,\"ticks\":\"\"},\"colorscale\":[[0.0,\"#0d0887\"],[0.1111111111111111,\"#46039f\"],[0.2222222222222222,\"#7201a8\"],[0.3333333333333333,\"#9c179e\"],[0.4444444444444444,\"#bd3786\"],[0.5555555555555556,\"#d8576b\"],[0.6666666666666666,\"#ed7953\"],[0.7777777777777778,\"#fb9f3a\"],[0.8888888888888888,\"#fdca26\"],[1.0,\"#f0f921\"]]}],\"choropleth\":[{\"type\":\"choropleth\",\"colorbar\":{\"outlinewidth\":0,\"ticks\":\"\"}}],\"histogram2d\":[{\"type\":\"histogram2d\",\"colorbar\":{\"outlinewidth\":0,\"ticks\":\"\"},\"colorscale\":[[0.0,\"#0d0887\"],[0.1111111111111111,\"#46039f\"],[0.2222222222222222,\"#7201a8\"],[0.3333333333333333,\"#9c179e\"],[0.4444444444444444,\"#bd3786\"],[0.5555555555555556,\"#d8576b\"],[0.6666666666666666,\"#ed7953\"],[0.7777777777777778,\"#fb9f3a\"],[0.8888888888888888,\"#fdca26\"],[1.0,\"#f0f921\"]]}],\"heatmap\":[{\"type\":\"heatmap\",\"colorbar\":{\"outlinewidth\":0,\"ticks\":\"\"},\"colorscale\":[[0.0,\"#0d0887\"],[0.1111111111111111,\"#46039f\"],[0.2222222222222222,\"#7201a8\"],[0.3333333333333333,\"#9c179e\"],[0.4444444444444444,\"#bd3786\"],[0.5555555555555556,\"#d8576b\"],[0.6666666666666666,\"#ed7953\"],[0.7777777777777778,\"#fb9f3a\"],[0.8888888888888888,\"#fdca26\"],[1.0,\"#f0f921\"]]}],\"heatmapgl\":[{\"type\":\"heatmapgl\",\"colorbar\":{\"outlinewidth\":0,\"ticks\":\"\"},\"colorscale\":[[0.0,\"#0d0887\"],[0.1111111111111111,\"#46039f\"],[0.2222222222222222,\"#7201a8\"],[0.3333333333333333,\"#9c179e\"],[0.4444444444444444,\"#bd3786\"],[0.5555555555555556,\"#d8576b\"],[0.6666666666666666,\"#ed7953\"],[0.7777777777777778,\"#fb9f3a\"],[0.8888888888888888,\"#fdca26\"],[1.0,\"#f0f921\"]]}],\"contourcarpet\":[{\"type\":\"contourcarpet\",\"colorbar\":{\"outlinewidth\":0,\"ticks\":\"\"}}],\"contour\":[{\"type\":\"contour\",\"colorbar\":{\"outlinewidth\":0,\"ticks\":\"\"},\"colorscale\":[[0.0,\"#0d0887\"],[0.1111111111111111,\"#46039f\"],[0.2222222222222222,\"#7201a8\"],[0.3333333333333333,\"#9c179e\"],[0.4444444444444444,\"#bd3786\"],[0.5555555555555556,\"#d8576b\"],[0.6666666666666666,\"#ed7953\"],[0.7777777777777778,\"#fb9f3a\"],[0.8888888888888888,\"#fdca26\"],[1.0,\"#f0f921\"]]}],\"surface\":[{\"type\":\"surface\",\"colorbar\":{\"outlinewidth\":0,\"ticks\":\"\"},\"colorscale\":[[0.0,\"#0d0887\"],[0.1111111111111111,\"#46039f\"],[0.2222222222222222,\"#7201a8\"],[0.3333333333333333,\"#9c179e\"],[0.4444444444444444,\"#bd3786\"],[0.5555555555555556,\"#d8576b\"],[0.6666666666666666,\"#ed7953\"],[0.7777777777777778,\"#fb9f3a\"],[0.8888888888888888,\"#fdca26\"],[1.0,\"#f0f921\"]]}],\"mesh3d\":[{\"type\":\"mesh3d\",\"colorbar\":{\"outlinewidth\":0,\"ticks\":\"\"}}],\"scatter\":[{\"fillpattern\":{\"fillmode\":\"overlay\",\"size\":10,\"solidity\":0.2},\"type\":\"scatter\"}],\"parcoords\":[{\"type\":\"parcoords\",\"line\":{\"colorbar\":{\"outlinewidth\":0,\"ticks\":\"\"}}}],\"scatterpolargl\":[{\"type\":\"scatterpolargl\",\"marker\":{\"colorbar\":{\"outlinewidth\":0,\"ticks\":\"\"}}}],\"bar\":[{\"error_x\":{\"color\":\"#2a3f5f\"},\"error_y\":{\"color\":\"#2a3f5f\"},\"marker\":{\"line\":{\"color\":\"#E5ECF6\",\"width\":0.5},\"pattern\":{\"fillmode\":\"overlay\",\"size\":10,\"solidity\":0.2}},\"type\":\"bar\"}],\"scattergeo\":[{\"type\":\"scattergeo\",\"marker\":{\"colorbar\":{\"outlinewidth\":0,\"ticks\":\"\"}}}],\"scatterpolar\":[{\"type\":\"scatterpolar\",\"marker\":{\"colorbar\":{\"outlinewidth\":0,\"ticks\":\"\"}}}],\"histogram\":[{\"marker\":{\"pattern\":{\"fillmode\":\"overlay\",\"size\":10,\"solidity\":0.2}},\"type\":\"histogram\"}],\"scattergl\":[{\"type\":\"scattergl\",\"marker\":{\"colorbar\":{\"outlinewidth\":0,\"ticks\":\"\"}}}],\"scatter3d\":[{\"type\":\"scatter3d\",\"line\":{\"colorbar\":{\"outlinewidth\":0,\"ticks\":\"\"}},\"marker\":{\"colorbar\":{\"outlinewidth\":0,\"ticks\":\"\"}}}],\"scattermapbox\":[{\"type\":\"scattermapbox\",\"marker\":{\"colorbar\":{\"outlinewidth\":0,\"ticks\":\"\"}}}],\"scatterternary\":[{\"type\":\"scatterternary\",\"marker\":{\"colorbar\":{\"outlinewidth\":0,\"ticks\":\"\"}}}],\"scattercarpet\":[{\"type\":\"scattercarpet\",\"marker\":{\"colorbar\":{\"outlinewidth\":0,\"ticks\":\"\"}}}],\"carpet\":[{\"aaxis\":{\"endlinecolor\":\"#2a3f5f\",\"gridcolor\":\"white\",\"linecolor\":\"white\",\"minorgridcolor\":\"white\",\"startlinecolor\":\"#2a3f5f\"},\"baxis\":{\"endlinecolor\":\"#2a3f5f\",\"gridcolor\":\"white\",\"linecolor\":\"white\",\"minorgridcolor\":\"white\",\"startlinecolor\":\"#2a3f5f\"},\"type\":\"carpet\"}],\"table\":[{\"cells\":{\"fill\":{\"color\":\"#EBF0F8\"},\"line\":{\"color\":\"white\"}},\"header\":{\"fill\":{\"color\":\"#C8D4E3\"},\"line\":{\"color\":\"white\"}},\"type\":\"table\"}],\"barpolar\":[{\"marker\":{\"line\":{\"color\":\"#E5ECF6\",\"width\":0.5},\"pattern\":{\"fillmode\":\"overlay\",\"size\":10,\"solidity\":0.2}},\"type\":\"barpolar\"}],\"pie\":[{\"automargin\":true,\"type\":\"pie\"}]},\"layout\":{\"autotypenumbers\":\"strict\",\"colorway\":[\"#636efa\",\"#EF553B\",\"#00cc96\",\"#ab63fa\",\"#FFA15A\",\"#19d3f3\",\"#FF6692\",\"#B6E880\",\"#FF97FF\",\"#FECB52\"],\"font\":{\"color\":\"#2a3f5f\"},\"hovermode\":\"closest\",\"hoverlabel\":{\"align\":\"left\"},\"paper_bgcolor\":\"white\",\"plot_bgcolor\":\"#E5ECF6\",\"polar\":{\"bgcolor\":\"#E5ECF6\",\"angularaxis\":{\"gridcolor\":\"white\",\"linecolor\":\"white\",\"ticks\":\"\"},\"radialaxis\":{\"gridcolor\":\"white\",\"linecolor\":\"white\",\"ticks\":\"\"}},\"ternary\":{\"bgcolor\":\"#E5ECF6\",\"aaxis\":{\"gridcolor\":\"white\",\"linecolor\":\"white\",\"ticks\":\"\"},\"baxis\":{\"gridcolor\":\"white\",\"linecolor\":\"white\",\"ticks\":\"\"},\"caxis\":{\"gridcolor\":\"white\",\"linecolor\":\"white\",\"ticks\":\"\"}},\"coloraxis\":{\"colorbar\":{\"outlinewidth\":0,\"ticks\":\"\"}},\"colorscale\":{\"sequential\":[[0.0,\"#0d0887\"],[0.1111111111111111,\"#46039f\"],[0.2222222222222222,\"#7201a8\"],[0.3333333333333333,\"#9c179e\"],[0.4444444444444444,\"#bd3786\"],[0.5555555555555556,\"#d8576b\"],[0.6666666666666666,\"#ed7953\"],[0.7777777777777778,\"#fb9f3a\"],[0.8888888888888888,\"#fdca26\"],[1.0,\"#f0f921\"]],\"sequentialminus\":[[0.0,\"#0d0887\"],[0.1111111111111111,\"#46039f\"],[0.2222222222222222,\"#7201a8\"],[0.3333333333333333,\"#9c179e\"],[0.4444444444444444,\"#bd3786\"],[0.5555555555555556,\"#d8576b\"],[0.6666666666666666,\"#ed7953\"],[0.7777777777777778,\"#fb9f3a\"],[0.8888888888888888,\"#fdca26\"],[1.0,\"#f0f921\"]],\"diverging\":[[0,\"#8e0152\"],[0.1,\"#c51b7d\"],[0.2,\"#de77ae\"],[0.3,\"#f1b6da\"],[0.4,\"#fde0ef\"],[0.5,\"#f7f7f7\"],[0.6,\"#e6f5d0\"],[0.7,\"#b8e186\"],[0.8,\"#7fbc41\"],[0.9,\"#4d9221\"],[1,\"#276419\"]]},\"xaxis\":{\"gridcolor\":\"white\",\"linecolor\":\"white\",\"ticks\":\"\",\"title\":{\"standoff\":15},\"zerolinecolor\":\"white\",\"automargin\":true,\"zerolinewidth\":2},\"yaxis\":{\"gridcolor\":\"white\",\"linecolor\":\"white\",\"ticks\":\"\",\"title\":{\"standoff\":15},\"zerolinecolor\":\"white\",\"automargin\":true,\"zerolinewidth\":2},\"scene\":{\"xaxis\":{\"backgroundcolor\":\"#E5ECF6\",\"gridcolor\":\"white\",\"linecolor\":\"white\",\"showbackground\":true,\"ticks\":\"\",\"zerolinecolor\":\"white\",\"gridwidth\":2},\"yaxis\":{\"backgroundcolor\":\"#E5ECF6\",\"gridcolor\":\"white\",\"linecolor\":\"white\",\"showbackground\":true,\"ticks\":\"\",\"zerolinecolor\":\"white\",\"gridwidth\":2},\"zaxis\":{\"backgroundcolor\":\"#E5ECF6\",\"gridcolor\":\"white\",\"linecolor\":\"white\",\"showbackground\":true,\"ticks\":\"\",\"zerolinecolor\":\"white\",\"gridwidth\":2}},\"shapedefaults\":{\"line\":{\"color\":\"#2a3f5f\"}},\"annotationdefaults\":{\"arrowcolor\":\"#2a3f5f\",\"arrowhead\":0,\"arrowwidth\":1},\"geo\":{\"bgcolor\":\"white\",\"landcolor\":\"#E5ECF6\",\"subunitcolor\":\"white\",\"showland\":true,\"showlakes\":true,\"lakecolor\":\"white\"},\"title\":{\"x\":0.05},\"mapbox\":{\"style\":\"light\"}}}},                        {\"responsive\": true}                    ).then(function(){\n",
       "                            \n",
       "var gd = document.getElementById('f7de1bb5-b9b8-45ea-81fd-b107d81bf78f');\n",
       "var x = new MutationObserver(function (mutations, observer) {{\n",
       "        var display = window.getComputedStyle(gd).display;\n",
       "        if (!display || display === 'none') {{\n",
       "            console.log([gd, 'removed!']);\n",
       "            Plotly.purge(gd);\n",
       "            observer.disconnect();\n",
       "        }}\n",
       "}});\n",
       "\n",
       "// Listen for the removal of the full notebook cells\n",
       "var notebookContainer = gd.closest('#notebook-container');\n",
       "if (notebookContainer) {{\n",
       "    x.observe(notebookContainer, {childList: true});\n",
       "}}\n",
       "\n",
       "// Listen for the clearing of the current output cell\n",
       "var outputEl = gd.closest('.output');\n",
       "if (outputEl) {{\n",
       "    x.observe(outputEl, {childList: true});\n",
       "}}\n",
       "\n",
       "                        })                };                });            </script>        </div>"
      ]
     },
     "metadata": {},
     "output_type": "display_data"
    }
   ],
   "source": [
    "fig.add_trace(go.Scatter3d(\n",
    "    x=mean_actual_shape_3d[:, 0], y=mean_actual_shape_3d[:, 1], z=mean_actual_shape_3d[:, 2], \n",
    "    mode='markers+text', marker=dict(color='blue', size=5), text=[str(i+1) for i in range(mean_actual_shape_3d.shape[0])], \n",
    "    textposition='top center', name='Mean Actual Shape'))"
   ]
  },
  {
   "cell_type": "markdown",
   "id": "a245ca42",
   "metadata": {},
   "source": [
    "Add mean perceived shape points"
   ]
  },
  {
   "cell_type": "code",
   "execution_count": 40,
   "id": "9f0a0994",
   "metadata": {},
   "outputs": [
    {
     "data": {
      "application/vnd.plotly.v1+json": {
       "config": {
        "plotlyServerURL": "https://plot.ly"
       },
       "data": [
        {
         "marker": {
          "color": "blue",
          "size": 5
         },
         "mode": "markers+text",
         "name": "Mean Actual Shape",
         "text": [
          "1",
          "2",
          "3",
          "4",
          "5",
          "6",
          "7",
          "8",
          "9",
          "10"
         ],
         "textposition": "top center",
         "type": "scatter3d",
         "x": [
          0.007761423598200137,
          0.12270908954622806,
          0.12369154822954513,
          0.08635811826351808,
          0.03920010146432742,
          -0.04136151056762372,
          -0.08360723395023226,
          -9.8245868331672e-05,
          -0.14058983758258814,
          -0.11406345313304307
         ],
         "y": [
          0.45792399229381026,
          0.31546748321292106,
          -0.15856883148727907,
          0.05167732674244697,
          -0.47099069278191935,
          -0.47295561014855236,
          0.05069486805912985,
          0.08016862855862482,
          -0.16839341832044435,
          0.3149762538712625
         ],
         "z": [
          0,
          0,
          0,
          0,
          0,
          0,
          0,
          0,
          0,
          0
         ]
        },
        {
         "marker": {
          "color": "red",
          "size": 5
         },
         "mode": "markers+text",
         "name": "Mean Perceived Shape",
         "text": [
          "1",
          "2",
          "3",
          "4",
          "5",
          "6",
          "7",
          "8",
          "9",
          "10"
         ],
         "textposition": "top center",
         "type": "scatter3d",
         "x": [
          -0.025188987282463295,
          0.0947958101801005,
          0.09790529759963623,
          0.07780856507063191,
          0.1496114968258724,
          0.011176426324840378,
          -0.1663853205262682,
          -0.08795099361059998,
          -0.04427986324317866,
          -0.1074924313385713
         ],
         "y": [
          0.2784659715342781,
          0.17747624833627315,
          -0.03471175558964026,
          -0.14256030628148472,
          -0.1410189135432541,
          0.19009519153606796,
          -0.1846226833759011,
          -0.21116041470043156,
          -0.034877272854621416,
          0.10291393493871394
         ],
         "z": [
          -0.11131012384394162,
          0.03753486658992634,
          0.1691273572260493,
          -0.04980722177616148,
          -0.171009226725211,
          0.03268296983993477,
          -0.04317289464342731,
          0.0813339763935485,
          0.08238713970369456,
          -0.027766842764412148
         ]
        }
       ],
       "layout": {
        "template": {
         "data": {
          "bar": [
           {
            "error_x": {
             "color": "#2a3f5f"
            },
            "error_y": {
             "color": "#2a3f5f"
            },
            "marker": {
             "line": {
              "color": "#E5ECF6",
              "width": 0.5
             },
             "pattern": {
              "fillmode": "overlay",
              "size": 10,
              "solidity": 0.2
             }
            },
            "type": "bar"
           }
          ],
          "barpolar": [
           {
            "marker": {
             "line": {
              "color": "#E5ECF6",
              "width": 0.5
             },
             "pattern": {
              "fillmode": "overlay",
              "size": 10,
              "solidity": 0.2
             }
            },
            "type": "barpolar"
           }
          ],
          "carpet": [
           {
            "aaxis": {
             "endlinecolor": "#2a3f5f",
             "gridcolor": "white",
             "linecolor": "white",
             "minorgridcolor": "white",
             "startlinecolor": "#2a3f5f"
            },
            "baxis": {
             "endlinecolor": "#2a3f5f",
             "gridcolor": "white",
             "linecolor": "white",
             "minorgridcolor": "white",
             "startlinecolor": "#2a3f5f"
            },
            "type": "carpet"
           }
          ],
          "choropleth": [
           {
            "colorbar": {
             "outlinewidth": 0,
             "ticks": ""
            },
            "type": "choropleth"
           }
          ],
          "contour": [
           {
            "colorbar": {
             "outlinewidth": 0,
             "ticks": ""
            },
            "colorscale": [
             [
              0,
              "#0d0887"
             ],
             [
              0.1111111111111111,
              "#46039f"
             ],
             [
              0.2222222222222222,
              "#7201a8"
             ],
             [
              0.3333333333333333,
              "#9c179e"
             ],
             [
              0.4444444444444444,
              "#bd3786"
             ],
             [
              0.5555555555555556,
              "#d8576b"
             ],
             [
              0.6666666666666666,
              "#ed7953"
             ],
             [
              0.7777777777777778,
              "#fb9f3a"
             ],
             [
              0.8888888888888888,
              "#fdca26"
             ],
             [
              1,
              "#f0f921"
             ]
            ],
            "type": "contour"
           }
          ],
          "contourcarpet": [
           {
            "colorbar": {
             "outlinewidth": 0,
             "ticks": ""
            },
            "type": "contourcarpet"
           }
          ],
          "heatmap": [
           {
            "colorbar": {
             "outlinewidth": 0,
             "ticks": ""
            },
            "colorscale": [
             [
              0,
              "#0d0887"
             ],
             [
              0.1111111111111111,
              "#46039f"
             ],
             [
              0.2222222222222222,
              "#7201a8"
             ],
             [
              0.3333333333333333,
              "#9c179e"
             ],
             [
              0.4444444444444444,
              "#bd3786"
             ],
             [
              0.5555555555555556,
              "#d8576b"
             ],
             [
              0.6666666666666666,
              "#ed7953"
             ],
             [
              0.7777777777777778,
              "#fb9f3a"
             ],
             [
              0.8888888888888888,
              "#fdca26"
             ],
             [
              1,
              "#f0f921"
             ]
            ],
            "type": "heatmap"
           }
          ],
          "heatmapgl": [
           {
            "colorbar": {
             "outlinewidth": 0,
             "ticks": ""
            },
            "colorscale": [
             [
              0,
              "#0d0887"
             ],
             [
              0.1111111111111111,
              "#46039f"
             ],
             [
              0.2222222222222222,
              "#7201a8"
             ],
             [
              0.3333333333333333,
              "#9c179e"
             ],
             [
              0.4444444444444444,
              "#bd3786"
             ],
             [
              0.5555555555555556,
              "#d8576b"
             ],
             [
              0.6666666666666666,
              "#ed7953"
             ],
             [
              0.7777777777777778,
              "#fb9f3a"
             ],
             [
              0.8888888888888888,
              "#fdca26"
             ],
             [
              1,
              "#f0f921"
             ]
            ],
            "type": "heatmapgl"
           }
          ],
          "histogram": [
           {
            "marker": {
             "pattern": {
              "fillmode": "overlay",
              "size": 10,
              "solidity": 0.2
             }
            },
            "type": "histogram"
           }
          ],
          "histogram2d": [
           {
            "colorbar": {
             "outlinewidth": 0,
             "ticks": ""
            },
            "colorscale": [
             [
              0,
              "#0d0887"
             ],
             [
              0.1111111111111111,
              "#46039f"
             ],
             [
              0.2222222222222222,
              "#7201a8"
             ],
             [
              0.3333333333333333,
              "#9c179e"
             ],
             [
              0.4444444444444444,
              "#bd3786"
             ],
             [
              0.5555555555555556,
              "#d8576b"
             ],
             [
              0.6666666666666666,
              "#ed7953"
             ],
             [
              0.7777777777777778,
              "#fb9f3a"
             ],
             [
              0.8888888888888888,
              "#fdca26"
             ],
             [
              1,
              "#f0f921"
             ]
            ],
            "type": "histogram2d"
           }
          ],
          "histogram2dcontour": [
           {
            "colorbar": {
             "outlinewidth": 0,
             "ticks": ""
            },
            "colorscale": [
             [
              0,
              "#0d0887"
             ],
             [
              0.1111111111111111,
              "#46039f"
             ],
             [
              0.2222222222222222,
              "#7201a8"
             ],
             [
              0.3333333333333333,
              "#9c179e"
             ],
             [
              0.4444444444444444,
              "#bd3786"
             ],
             [
              0.5555555555555556,
              "#d8576b"
             ],
             [
              0.6666666666666666,
              "#ed7953"
             ],
             [
              0.7777777777777778,
              "#fb9f3a"
             ],
             [
              0.8888888888888888,
              "#fdca26"
             ],
             [
              1,
              "#f0f921"
             ]
            ],
            "type": "histogram2dcontour"
           }
          ],
          "mesh3d": [
           {
            "colorbar": {
             "outlinewidth": 0,
             "ticks": ""
            },
            "type": "mesh3d"
           }
          ],
          "parcoords": [
           {
            "line": {
             "colorbar": {
              "outlinewidth": 0,
              "ticks": ""
             }
            },
            "type": "parcoords"
           }
          ],
          "pie": [
           {
            "automargin": true,
            "type": "pie"
           }
          ],
          "scatter": [
           {
            "fillpattern": {
             "fillmode": "overlay",
             "size": 10,
             "solidity": 0.2
            },
            "type": "scatter"
           }
          ],
          "scatter3d": [
           {
            "line": {
             "colorbar": {
              "outlinewidth": 0,
              "ticks": ""
             }
            },
            "marker": {
             "colorbar": {
              "outlinewidth": 0,
              "ticks": ""
             }
            },
            "type": "scatter3d"
           }
          ],
          "scattercarpet": [
           {
            "marker": {
             "colorbar": {
              "outlinewidth": 0,
              "ticks": ""
             }
            },
            "type": "scattercarpet"
           }
          ],
          "scattergeo": [
           {
            "marker": {
             "colorbar": {
              "outlinewidth": 0,
              "ticks": ""
             }
            },
            "type": "scattergeo"
           }
          ],
          "scattergl": [
           {
            "marker": {
             "colorbar": {
              "outlinewidth": 0,
              "ticks": ""
             }
            },
            "type": "scattergl"
           }
          ],
          "scattermapbox": [
           {
            "marker": {
             "colorbar": {
              "outlinewidth": 0,
              "ticks": ""
             }
            },
            "type": "scattermapbox"
           }
          ],
          "scatterpolar": [
           {
            "marker": {
             "colorbar": {
              "outlinewidth": 0,
              "ticks": ""
             }
            },
            "type": "scatterpolar"
           }
          ],
          "scatterpolargl": [
           {
            "marker": {
             "colorbar": {
              "outlinewidth": 0,
              "ticks": ""
             }
            },
            "type": "scatterpolargl"
           }
          ],
          "scatterternary": [
           {
            "marker": {
             "colorbar": {
              "outlinewidth": 0,
              "ticks": ""
             }
            },
            "type": "scatterternary"
           }
          ],
          "surface": [
           {
            "colorbar": {
             "outlinewidth": 0,
             "ticks": ""
            },
            "colorscale": [
             [
              0,
              "#0d0887"
             ],
             [
              0.1111111111111111,
              "#46039f"
             ],
             [
              0.2222222222222222,
              "#7201a8"
             ],
             [
              0.3333333333333333,
              "#9c179e"
             ],
             [
              0.4444444444444444,
              "#bd3786"
             ],
             [
              0.5555555555555556,
              "#d8576b"
             ],
             [
              0.6666666666666666,
              "#ed7953"
             ],
             [
              0.7777777777777778,
              "#fb9f3a"
             ],
             [
              0.8888888888888888,
              "#fdca26"
             ],
             [
              1,
              "#f0f921"
             ]
            ],
            "type": "surface"
           }
          ],
          "table": [
           {
            "cells": {
             "fill": {
              "color": "#EBF0F8"
             },
             "line": {
              "color": "white"
             }
            },
            "header": {
             "fill": {
              "color": "#C8D4E3"
             },
             "line": {
              "color": "white"
             }
            },
            "type": "table"
           }
          ]
         },
         "layout": {
          "annotationdefaults": {
           "arrowcolor": "#2a3f5f",
           "arrowhead": 0,
           "arrowwidth": 1
          },
          "autotypenumbers": "strict",
          "coloraxis": {
           "colorbar": {
            "outlinewidth": 0,
            "ticks": ""
           }
          },
          "colorscale": {
           "diverging": [
            [
             0,
             "#8e0152"
            ],
            [
             0.1,
             "#c51b7d"
            ],
            [
             0.2,
             "#de77ae"
            ],
            [
             0.3,
             "#f1b6da"
            ],
            [
             0.4,
             "#fde0ef"
            ],
            [
             0.5,
             "#f7f7f7"
            ],
            [
             0.6,
             "#e6f5d0"
            ],
            [
             0.7,
             "#b8e186"
            ],
            [
             0.8,
             "#7fbc41"
            ],
            [
             0.9,
             "#4d9221"
            ],
            [
             1,
             "#276419"
            ]
           ],
           "sequential": [
            [
             0,
             "#0d0887"
            ],
            [
             0.1111111111111111,
             "#46039f"
            ],
            [
             0.2222222222222222,
             "#7201a8"
            ],
            [
             0.3333333333333333,
             "#9c179e"
            ],
            [
             0.4444444444444444,
             "#bd3786"
            ],
            [
             0.5555555555555556,
             "#d8576b"
            ],
            [
             0.6666666666666666,
             "#ed7953"
            ],
            [
             0.7777777777777778,
             "#fb9f3a"
            ],
            [
             0.8888888888888888,
             "#fdca26"
            ],
            [
             1,
             "#f0f921"
            ]
           ],
           "sequentialminus": [
            [
             0,
             "#0d0887"
            ],
            [
             0.1111111111111111,
             "#46039f"
            ],
            [
             0.2222222222222222,
             "#7201a8"
            ],
            [
             0.3333333333333333,
             "#9c179e"
            ],
            [
             0.4444444444444444,
             "#bd3786"
            ],
            [
             0.5555555555555556,
             "#d8576b"
            ],
            [
             0.6666666666666666,
             "#ed7953"
            ],
            [
             0.7777777777777778,
             "#fb9f3a"
            ],
            [
             0.8888888888888888,
             "#fdca26"
            ],
            [
             1,
             "#f0f921"
            ]
           ]
          },
          "colorway": [
           "#636efa",
           "#EF553B",
           "#00cc96",
           "#ab63fa",
           "#FFA15A",
           "#19d3f3",
           "#FF6692",
           "#B6E880",
           "#FF97FF",
           "#FECB52"
          ],
          "font": {
           "color": "#2a3f5f"
          },
          "geo": {
           "bgcolor": "white",
           "lakecolor": "white",
           "landcolor": "#E5ECF6",
           "showlakes": true,
           "showland": true,
           "subunitcolor": "white"
          },
          "hoverlabel": {
           "align": "left"
          },
          "hovermode": "closest",
          "mapbox": {
           "style": "light"
          },
          "paper_bgcolor": "white",
          "plot_bgcolor": "#E5ECF6",
          "polar": {
           "angularaxis": {
            "gridcolor": "white",
            "linecolor": "white",
            "ticks": ""
           },
           "bgcolor": "#E5ECF6",
           "radialaxis": {
            "gridcolor": "white",
            "linecolor": "white",
            "ticks": ""
           }
          },
          "scene": {
           "xaxis": {
            "backgroundcolor": "#E5ECF6",
            "gridcolor": "white",
            "gridwidth": 2,
            "linecolor": "white",
            "showbackground": true,
            "ticks": "",
            "zerolinecolor": "white"
           },
           "yaxis": {
            "backgroundcolor": "#E5ECF6",
            "gridcolor": "white",
            "gridwidth": 2,
            "linecolor": "white",
            "showbackground": true,
            "ticks": "",
            "zerolinecolor": "white"
           },
           "zaxis": {
            "backgroundcolor": "#E5ECF6",
            "gridcolor": "white",
            "gridwidth": 2,
            "linecolor": "white",
            "showbackground": true,
            "ticks": "",
            "zerolinecolor": "white"
           }
          },
          "shapedefaults": {
           "line": {
            "color": "#2a3f5f"
           }
          },
          "ternary": {
           "aaxis": {
            "gridcolor": "white",
            "linecolor": "white",
            "ticks": ""
           },
           "baxis": {
            "gridcolor": "white",
            "linecolor": "white",
            "ticks": ""
           },
           "bgcolor": "#E5ECF6",
           "caxis": {
            "gridcolor": "white",
            "linecolor": "white",
            "ticks": ""
           }
          },
          "title": {
           "x": 0.05
          },
          "xaxis": {
           "automargin": true,
           "gridcolor": "white",
           "linecolor": "white",
           "ticks": "",
           "title": {
            "standoff": 15
           },
           "zerolinecolor": "white",
           "zerolinewidth": 2
          },
          "yaxis": {
           "automargin": true,
           "gridcolor": "white",
           "linecolor": "white",
           "ticks": "",
           "title": {
            "standoff": 15
           },
           "zerolinecolor": "white",
           "zerolinewidth": 2
          }
         }
        }
       }
      },
      "text/html": [
       "<div>                            <div id=\"52ff7174-7236-4c5e-9193-3d07db256379\" class=\"plotly-graph-div\" style=\"height:525px; width:100%;\"></div>            <script type=\"text/javascript\">                require([\"plotly\"], function(Plotly) {                    window.PLOTLYENV=window.PLOTLYENV || {};                                    if (document.getElementById(\"52ff7174-7236-4c5e-9193-3d07db256379\")) {                    Plotly.newPlot(                        \"52ff7174-7236-4c5e-9193-3d07db256379\",                        [{\"marker\":{\"color\":\"blue\",\"size\":5},\"mode\":\"markers+text\",\"name\":\"Mean Actual Shape\",\"text\":[\"1\",\"2\",\"3\",\"4\",\"5\",\"6\",\"7\",\"8\",\"9\",\"10\"],\"textposition\":\"top center\",\"x\":[0.007761423598200137,0.12270908954622806,0.12369154822954513,0.08635811826351808,0.03920010146432742,-0.04136151056762372,-0.08360723395023226,-9.8245868331672e-05,-0.14058983758258814,-0.11406345313304307],\"y\":[0.45792399229381026,0.31546748321292106,-0.15856883148727907,0.05167732674244697,-0.47099069278191935,-0.47295561014855236,0.05069486805912985,0.08016862855862482,-0.16839341832044435,0.3149762538712625],\"z\":[0.0,0.0,0.0,0.0,0.0,0.0,0.0,0.0,0.0,0.0],\"type\":\"scatter3d\"},{\"marker\":{\"color\":\"red\",\"size\":5},\"mode\":\"markers+text\",\"name\":\"Mean Perceived Shape\",\"text\":[\"1\",\"2\",\"3\",\"4\",\"5\",\"6\",\"7\",\"8\",\"9\",\"10\"],\"textposition\":\"top center\",\"x\":[-0.025188987282463295,0.0947958101801005,0.09790529759963623,0.07780856507063191,0.1496114968258724,0.011176426324840378,-0.1663853205262682,-0.08795099361059998,-0.04427986324317866,-0.1074924313385713],\"y\":[0.2784659715342781,0.17747624833627315,-0.03471175558964026,-0.14256030628148472,-0.1410189135432541,0.19009519153606796,-0.1846226833759011,-0.21116041470043156,-0.034877272854621416,0.10291393493871394],\"z\":[-0.11131012384394162,0.03753486658992634,0.1691273572260493,-0.04980722177616148,-0.171009226725211,0.03268296983993477,-0.04317289464342731,0.0813339763935485,0.08238713970369456,-0.027766842764412148],\"type\":\"scatter3d\"}],                        {\"template\":{\"data\":{\"histogram2dcontour\":[{\"type\":\"histogram2dcontour\",\"colorbar\":{\"outlinewidth\":0,\"ticks\":\"\"},\"colorscale\":[[0.0,\"#0d0887\"],[0.1111111111111111,\"#46039f\"],[0.2222222222222222,\"#7201a8\"],[0.3333333333333333,\"#9c179e\"],[0.4444444444444444,\"#bd3786\"],[0.5555555555555556,\"#d8576b\"],[0.6666666666666666,\"#ed7953\"],[0.7777777777777778,\"#fb9f3a\"],[0.8888888888888888,\"#fdca26\"],[1.0,\"#f0f921\"]]}],\"choropleth\":[{\"type\":\"choropleth\",\"colorbar\":{\"outlinewidth\":0,\"ticks\":\"\"}}],\"histogram2d\":[{\"type\":\"histogram2d\",\"colorbar\":{\"outlinewidth\":0,\"ticks\":\"\"},\"colorscale\":[[0.0,\"#0d0887\"],[0.1111111111111111,\"#46039f\"],[0.2222222222222222,\"#7201a8\"],[0.3333333333333333,\"#9c179e\"],[0.4444444444444444,\"#bd3786\"],[0.5555555555555556,\"#d8576b\"],[0.6666666666666666,\"#ed7953\"],[0.7777777777777778,\"#fb9f3a\"],[0.8888888888888888,\"#fdca26\"],[1.0,\"#f0f921\"]]}],\"heatmap\":[{\"type\":\"heatmap\",\"colorbar\":{\"outlinewidth\":0,\"ticks\":\"\"},\"colorscale\":[[0.0,\"#0d0887\"],[0.1111111111111111,\"#46039f\"],[0.2222222222222222,\"#7201a8\"],[0.3333333333333333,\"#9c179e\"],[0.4444444444444444,\"#bd3786\"],[0.5555555555555556,\"#d8576b\"],[0.6666666666666666,\"#ed7953\"],[0.7777777777777778,\"#fb9f3a\"],[0.8888888888888888,\"#fdca26\"],[1.0,\"#f0f921\"]]}],\"heatmapgl\":[{\"type\":\"heatmapgl\",\"colorbar\":{\"outlinewidth\":0,\"ticks\":\"\"},\"colorscale\":[[0.0,\"#0d0887\"],[0.1111111111111111,\"#46039f\"],[0.2222222222222222,\"#7201a8\"],[0.3333333333333333,\"#9c179e\"],[0.4444444444444444,\"#bd3786\"],[0.5555555555555556,\"#d8576b\"],[0.6666666666666666,\"#ed7953\"],[0.7777777777777778,\"#fb9f3a\"],[0.8888888888888888,\"#fdca26\"],[1.0,\"#f0f921\"]]}],\"contourcarpet\":[{\"type\":\"contourcarpet\",\"colorbar\":{\"outlinewidth\":0,\"ticks\":\"\"}}],\"contour\":[{\"type\":\"contour\",\"colorbar\":{\"outlinewidth\":0,\"ticks\":\"\"},\"colorscale\":[[0.0,\"#0d0887\"],[0.1111111111111111,\"#46039f\"],[0.2222222222222222,\"#7201a8\"],[0.3333333333333333,\"#9c179e\"],[0.4444444444444444,\"#bd3786\"],[0.5555555555555556,\"#d8576b\"],[0.6666666666666666,\"#ed7953\"],[0.7777777777777778,\"#fb9f3a\"],[0.8888888888888888,\"#fdca26\"],[1.0,\"#f0f921\"]]}],\"surface\":[{\"type\":\"surface\",\"colorbar\":{\"outlinewidth\":0,\"ticks\":\"\"},\"colorscale\":[[0.0,\"#0d0887\"],[0.1111111111111111,\"#46039f\"],[0.2222222222222222,\"#7201a8\"],[0.3333333333333333,\"#9c179e\"],[0.4444444444444444,\"#bd3786\"],[0.5555555555555556,\"#d8576b\"],[0.6666666666666666,\"#ed7953\"],[0.7777777777777778,\"#fb9f3a\"],[0.8888888888888888,\"#fdca26\"],[1.0,\"#f0f921\"]]}],\"mesh3d\":[{\"type\":\"mesh3d\",\"colorbar\":{\"outlinewidth\":0,\"ticks\":\"\"}}],\"scatter\":[{\"fillpattern\":{\"fillmode\":\"overlay\",\"size\":10,\"solidity\":0.2},\"type\":\"scatter\"}],\"parcoords\":[{\"type\":\"parcoords\",\"line\":{\"colorbar\":{\"outlinewidth\":0,\"ticks\":\"\"}}}],\"scatterpolargl\":[{\"type\":\"scatterpolargl\",\"marker\":{\"colorbar\":{\"outlinewidth\":0,\"ticks\":\"\"}}}],\"bar\":[{\"error_x\":{\"color\":\"#2a3f5f\"},\"error_y\":{\"color\":\"#2a3f5f\"},\"marker\":{\"line\":{\"color\":\"#E5ECF6\",\"width\":0.5},\"pattern\":{\"fillmode\":\"overlay\",\"size\":10,\"solidity\":0.2}},\"type\":\"bar\"}],\"scattergeo\":[{\"type\":\"scattergeo\",\"marker\":{\"colorbar\":{\"outlinewidth\":0,\"ticks\":\"\"}}}],\"scatterpolar\":[{\"type\":\"scatterpolar\",\"marker\":{\"colorbar\":{\"outlinewidth\":0,\"ticks\":\"\"}}}],\"histogram\":[{\"marker\":{\"pattern\":{\"fillmode\":\"overlay\",\"size\":10,\"solidity\":0.2}},\"type\":\"histogram\"}],\"scattergl\":[{\"type\":\"scattergl\",\"marker\":{\"colorbar\":{\"outlinewidth\":0,\"ticks\":\"\"}}}],\"scatter3d\":[{\"type\":\"scatter3d\",\"line\":{\"colorbar\":{\"outlinewidth\":0,\"ticks\":\"\"}},\"marker\":{\"colorbar\":{\"outlinewidth\":0,\"ticks\":\"\"}}}],\"scattermapbox\":[{\"type\":\"scattermapbox\",\"marker\":{\"colorbar\":{\"outlinewidth\":0,\"ticks\":\"\"}}}],\"scatterternary\":[{\"type\":\"scatterternary\",\"marker\":{\"colorbar\":{\"outlinewidth\":0,\"ticks\":\"\"}}}],\"scattercarpet\":[{\"type\":\"scattercarpet\",\"marker\":{\"colorbar\":{\"outlinewidth\":0,\"ticks\":\"\"}}}],\"carpet\":[{\"aaxis\":{\"endlinecolor\":\"#2a3f5f\",\"gridcolor\":\"white\",\"linecolor\":\"white\",\"minorgridcolor\":\"white\",\"startlinecolor\":\"#2a3f5f\"},\"baxis\":{\"endlinecolor\":\"#2a3f5f\",\"gridcolor\":\"white\",\"linecolor\":\"white\",\"minorgridcolor\":\"white\",\"startlinecolor\":\"#2a3f5f\"},\"type\":\"carpet\"}],\"table\":[{\"cells\":{\"fill\":{\"color\":\"#EBF0F8\"},\"line\":{\"color\":\"white\"}},\"header\":{\"fill\":{\"color\":\"#C8D4E3\"},\"line\":{\"color\":\"white\"}},\"type\":\"table\"}],\"barpolar\":[{\"marker\":{\"line\":{\"color\":\"#E5ECF6\",\"width\":0.5},\"pattern\":{\"fillmode\":\"overlay\",\"size\":10,\"solidity\":0.2}},\"type\":\"barpolar\"}],\"pie\":[{\"automargin\":true,\"type\":\"pie\"}]},\"layout\":{\"autotypenumbers\":\"strict\",\"colorway\":[\"#636efa\",\"#EF553B\",\"#00cc96\",\"#ab63fa\",\"#FFA15A\",\"#19d3f3\",\"#FF6692\",\"#B6E880\",\"#FF97FF\",\"#FECB52\"],\"font\":{\"color\":\"#2a3f5f\"},\"hovermode\":\"closest\",\"hoverlabel\":{\"align\":\"left\"},\"paper_bgcolor\":\"white\",\"plot_bgcolor\":\"#E5ECF6\",\"polar\":{\"bgcolor\":\"#E5ECF6\",\"angularaxis\":{\"gridcolor\":\"white\",\"linecolor\":\"white\",\"ticks\":\"\"},\"radialaxis\":{\"gridcolor\":\"white\",\"linecolor\":\"white\",\"ticks\":\"\"}},\"ternary\":{\"bgcolor\":\"#E5ECF6\",\"aaxis\":{\"gridcolor\":\"white\",\"linecolor\":\"white\",\"ticks\":\"\"},\"baxis\":{\"gridcolor\":\"white\",\"linecolor\":\"white\",\"ticks\":\"\"},\"caxis\":{\"gridcolor\":\"white\",\"linecolor\":\"white\",\"ticks\":\"\"}},\"coloraxis\":{\"colorbar\":{\"outlinewidth\":0,\"ticks\":\"\"}},\"colorscale\":{\"sequential\":[[0.0,\"#0d0887\"],[0.1111111111111111,\"#46039f\"],[0.2222222222222222,\"#7201a8\"],[0.3333333333333333,\"#9c179e\"],[0.4444444444444444,\"#bd3786\"],[0.5555555555555556,\"#d8576b\"],[0.6666666666666666,\"#ed7953\"],[0.7777777777777778,\"#fb9f3a\"],[0.8888888888888888,\"#fdca26\"],[1.0,\"#f0f921\"]],\"sequentialminus\":[[0.0,\"#0d0887\"],[0.1111111111111111,\"#46039f\"],[0.2222222222222222,\"#7201a8\"],[0.3333333333333333,\"#9c179e\"],[0.4444444444444444,\"#bd3786\"],[0.5555555555555556,\"#d8576b\"],[0.6666666666666666,\"#ed7953\"],[0.7777777777777778,\"#fb9f3a\"],[0.8888888888888888,\"#fdca26\"],[1.0,\"#f0f921\"]],\"diverging\":[[0,\"#8e0152\"],[0.1,\"#c51b7d\"],[0.2,\"#de77ae\"],[0.3,\"#f1b6da\"],[0.4,\"#fde0ef\"],[0.5,\"#f7f7f7\"],[0.6,\"#e6f5d0\"],[0.7,\"#b8e186\"],[0.8,\"#7fbc41\"],[0.9,\"#4d9221\"],[1,\"#276419\"]]},\"xaxis\":{\"gridcolor\":\"white\",\"linecolor\":\"white\",\"ticks\":\"\",\"title\":{\"standoff\":15},\"zerolinecolor\":\"white\",\"automargin\":true,\"zerolinewidth\":2},\"yaxis\":{\"gridcolor\":\"white\",\"linecolor\":\"white\",\"ticks\":\"\",\"title\":{\"standoff\":15},\"zerolinecolor\":\"white\",\"automargin\":true,\"zerolinewidth\":2},\"scene\":{\"xaxis\":{\"backgroundcolor\":\"#E5ECF6\",\"gridcolor\":\"white\",\"linecolor\":\"white\",\"showbackground\":true,\"ticks\":\"\",\"zerolinecolor\":\"white\",\"gridwidth\":2},\"yaxis\":{\"backgroundcolor\":\"#E5ECF6\",\"gridcolor\":\"white\",\"linecolor\":\"white\",\"showbackground\":true,\"ticks\":\"\",\"zerolinecolor\":\"white\",\"gridwidth\":2},\"zaxis\":{\"backgroundcolor\":\"#E5ECF6\",\"gridcolor\":\"white\",\"linecolor\":\"white\",\"showbackground\":true,\"ticks\":\"\",\"zerolinecolor\":\"white\",\"gridwidth\":2}},\"shapedefaults\":{\"line\":{\"color\":\"#2a3f5f\"}},\"annotationdefaults\":{\"arrowcolor\":\"#2a3f5f\",\"arrowhead\":0,\"arrowwidth\":1},\"geo\":{\"bgcolor\":\"white\",\"landcolor\":\"#E5ECF6\",\"subunitcolor\":\"white\",\"showland\":true,\"showlakes\":true,\"lakecolor\":\"white\"},\"title\":{\"x\":0.05},\"mapbox\":{\"style\":\"light\"}}}},                        {\"responsive\": true}                    ).then(function(){\n",
       "                            \n",
       "var gd = document.getElementById('52ff7174-7236-4c5e-9193-3d07db256379');\n",
       "var x = new MutationObserver(function (mutations, observer) {{\n",
       "        var display = window.getComputedStyle(gd).display;\n",
       "        if (!display || display === 'none') {{\n",
       "            console.log([gd, 'removed!']);\n",
       "            Plotly.purge(gd);\n",
       "            observer.disconnect();\n",
       "        }}\n",
       "}});\n",
       "\n",
       "// Listen for the removal of the full notebook cells\n",
       "var notebookContainer = gd.closest('#notebook-container');\n",
       "if (notebookContainer) {{\n",
       "    x.observe(notebookContainer, {childList: true});\n",
       "}}\n",
       "\n",
       "// Listen for the clearing of the current output cell\n",
       "var outputEl = gd.closest('.output');\n",
       "if (outputEl) {{\n",
       "    x.observe(outputEl, {childList: true});\n",
       "}}\n",
       "\n",
       "                        })                };                });            </script>        </div>"
      ]
     },
     "metadata": {},
     "output_type": "display_data"
    }
   ],
   "source": [
    "fig.add_trace(go.Scatter3d(\n",
    "    x=aligned_mean_perceived_shape_3d[:, 0], y=aligned_mean_perceived_shape_3d[:, 1], z=aligned_mean_perceived_shape_3d[:, 2], \n",
    "    mode='markers+text', marker=dict(color='red', size=5), text=[str(i+1) for i in range(aligned_mean_perceived_shape_3d.shape[0])], \n",
    "    textposition='top center', name='Mean Perceived Shape'))"
   ]
  },
  {
   "cell_type": "markdown",
   "id": "e21225ed",
   "metadata": {},
   "source": [
    "Add lines connecting corresponding points"
   ]
  },
  {
   "cell_type": "code",
   "execution_count": 41,
   "id": "edaa18d3",
   "metadata": {},
   "outputs": [],
   "source": [
    "for (x_actual, y_actual, z_actual), (x_perceived, y_perceived, z_perceived) in zip(mean_actual_shape_3d, aligned_mean_perceived_shape_3d):\n",
    "    fig.add_trace(go.Scatter3d(\n",
    "        x=[x_actual, x_perceived], y=[y_actual, y_perceived], z=[z_actual, z_perceived], mode='lines', \n",
    "        line=dict(color='gray', width=1, dash='dash'), showlegend=False))"
   ]
  },
  {
   "cell_type": "markdown",
   "id": "4d2c6970",
   "metadata": {},
   "source": [
    "Add lines connecting specific points for easier interpretation\n",
    "\n",
    "*(Points:\n",
    "0 - Head;\n",
    "1 - R shoulder;\n",
    "2 - R hand;\n",
    "3 - R hip;\n",
    "4 - R foot;\n",
    "5 - L foot;\n",
    "6 - L hip;\n",
    "7 - Navel;\n",
    "8 - L hand;\n",
    "9 - L shoulder)*\n"
   ]
  },
  {
   "cell_type": "code",
   "execution_count": 42,
   "id": "0b816e51",
   "metadata": {},
   "outputs": [],
   "source": [
    "connections = [(0, 9), (9, 8), (9, 6), (6, 5), (6, 7), (7, 3), (3, 4), (0, 1), (1, 2), (3, 1)]\n",
    "for start, end in connections:\n",
    "    fig.add_trace(go.Scatter3d(\n",
    "        x=[mean_actual_shape_3d[start, 0], mean_actual_shape_3d[end, 0]], \n",
    "        y=[mean_actual_shape_3d[start, 1], mean_actual_shape_3d[end, 1]], \n",
    "        z=[mean_actual_shape_3d[start, 2], mean_actual_shape_3d[end, 2]], \n",
    "        mode='lines', line=dict(color='blue', width=2), showlegend=False))\n",
    "    fig.add_trace(go.Scatter3d(\n",
    "        x=[aligned_mean_perceived_shape_3d[start, 0], aligned_mean_perceived_shape_3d[end, 0]], \n",
    "        y=[aligned_mean_perceived_shape_3d[start, 1], aligned_mean_perceived_shape_3d[end, 1]], \n",
    "        z=[aligned_mean_perceived_shape_3d[start, 2], aligned_mean_perceived_shape_3d[end, 2]], \n",
    "        mode='lines', line=dict(color='red', width=2), showlegend=False))"
   ]
  },
  {
   "cell_type": "markdown",
   "id": "8c063cd1",
   "metadata": {},
   "source": [
    "Set plot layout"
   ]
  },
  {
   "cell_type": "code",
   "execution_count": 43,
   "id": "a2bc1608",
   "metadata": {},
   "outputs": [
    {
     "data": {
      "application/vnd.plotly.v1+json": {
       "config": {
        "plotlyServerURL": "https://plot.ly"
       },
       "data": [
        {
         "marker": {
          "color": "blue",
          "size": 5
         },
         "mode": "markers+text",
         "name": "Mean Actual Shape",
         "text": [
          "1",
          "2",
          "3",
          "4",
          "5",
          "6",
          "7",
          "8",
          "9",
          "10"
         ],
         "textposition": "top center",
         "type": "scatter3d",
         "x": [
          0.007761423598200137,
          0.12270908954622806,
          0.12369154822954513,
          0.08635811826351808,
          0.03920010146432742,
          -0.04136151056762372,
          -0.08360723395023226,
          -9.8245868331672e-05,
          -0.14058983758258814,
          -0.11406345313304307
         ],
         "y": [
          0.45792399229381026,
          0.31546748321292106,
          -0.15856883148727907,
          0.05167732674244697,
          -0.47099069278191935,
          -0.47295561014855236,
          0.05069486805912985,
          0.08016862855862482,
          -0.16839341832044435,
          0.3149762538712625
         ],
         "z": [
          0,
          0,
          0,
          0,
          0,
          0,
          0,
          0,
          0,
          0
         ]
        },
        {
         "marker": {
          "color": "red",
          "size": 5
         },
         "mode": "markers+text",
         "name": "Mean Perceived Shape",
         "text": [
          "1",
          "2",
          "3",
          "4",
          "5",
          "6",
          "7",
          "8",
          "9",
          "10"
         ],
         "textposition": "top center",
         "type": "scatter3d",
         "x": [
          -0.025188987282463295,
          0.0947958101801005,
          0.09790529759963623,
          0.07780856507063191,
          0.1496114968258724,
          0.011176426324840378,
          -0.1663853205262682,
          -0.08795099361059998,
          -0.04427986324317866,
          -0.1074924313385713
         ],
         "y": [
          0.2784659715342781,
          0.17747624833627315,
          -0.03471175558964026,
          -0.14256030628148472,
          -0.1410189135432541,
          0.19009519153606796,
          -0.1846226833759011,
          -0.21116041470043156,
          -0.034877272854621416,
          0.10291393493871394
         ],
         "z": [
          -0.11131012384394162,
          0.03753486658992634,
          0.1691273572260493,
          -0.04980722177616148,
          -0.171009226725211,
          0.03268296983993477,
          -0.04317289464342731,
          0.0813339763935485,
          0.08238713970369456,
          -0.027766842764412148
         ]
        },
        {
         "line": {
          "color": "gray",
          "dash": "dash",
          "width": 1
         },
         "mode": "lines",
         "showlegend": false,
         "type": "scatter3d",
         "x": [
          0.007761423598200137,
          -0.025188987282463295
         ],
         "y": [
          0.45792399229381026,
          0.2784659715342781
         ],
         "z": [
          0,
          -0.11131012384394162
         ]
        },
        {
         "line": {
          "color": "gray",
          "dash": "dash",
          "width": 1
         },
         "mode": "lines",
         "showlegend": false,
         "type": "scatter3d",
         "x": [
          0.12270908954622806,
          0.0947958101801005
         ],
         "y": [
          0.31546748321292106,
          0.17747624833627315
         ],
         "z": [
          0,
          0.03753486658992634
         ]
        },
        {
         "line": {
          "color": "gray",
          "dash": "dash",
          "width": 1
         },
         "mode": "lines",
         "showlegend": false,
         "type": "scatter3d",
         "x": [
          0.12369154822954513,
          0.09790529759963623
         ],
         "y": [
          -0.15856883148727907,
          -0.03471175558964026
         ],
         "z": [
          0,
          0.1691273572260493
         ]
        },
        {
         "line": {
          "color": "gray",
          "dash": "dash",
          "width": 1
         },
         "mode": "lines",
         "showlegend": false,
         "type": "scatter3d",
         "x": [
          0.08635811826351808,
          0.07780856507063191
         ],
         "y": [
          0.05167732674244697,
          -0.14256030628148472
         ],
         "z": [
          0,
          -0.04980722177616148
         ]
        },
        {
         "line": {
          "color": "gray",
          "dash": "dash",
          "width": 1
         },
         "mode": "lines",
         "showlegend": false,
         "type": "scatter3d",
         "x": [
          0.03920010146432742,
          0.1496114968258724
         ],
         "y": [
          -0.47099069278191935,
          -0.1410189135432541
         ],
         "z": [
          0,
          -0.171009226725211
         ]
        },
        {
         "line": {
          "color": "gray",
          "dash": "dash",
          "width": 1
         },
         "mode": "lines",
         "showlegend": false,
         "type": "scatter3d",
         "x": [
          -0.04136151056762372,
          0.011176426324840378
         ],
         "y": [
          -0.47295561014855236,
          0.19009519153606796
         ],
         "z": [
          0,
          0.03268296983993477
         ]
        },
        {
         "line": {
          "color": "gray",
          "dash": "dash",
          "width": 1
         },
         "mode": "lines",
         "showlegend": false,
         "type": "scatter3d",
         "x": [
          -0.08360723395023226,
          -0.1663853205262682
         ],
         "y": [
          0.05069486805912985,
          -0.1846226833759011
         ],
         "z": [
          0,
          -0.04317289464342731
         ]
        },
        {
         "line": {
          "color": "gray",
          "dash": "dash",
          "width": 1
         },
         "mode": "lines",
         "showlegend": false,
         "type": "scatter3d",
         "x": [
          -9.8245868331672e-05,
          -0.08795099361059998
         ],
         "y": [
          0.08016862855862482,
          -0.21116041470043156
         ],
         "z": [
          0,
          0.0813339763935485
         ]
        },
        {
         "line": {
          "color": "gray",
          "dash": "dash",
          "width": 1
         },
         "mode": "lines",
         "showlegend": false,
         "type": "scatter3d",
         "x": [
          -0.14058983758258814,
          -0.04427986324317866
         ],
         "y": [
          -0.16839341832044435,
          -0.034877272854621416
         ],
         "z": [
          0,
          0.08238713970369456
         ]
        },
        {
         "line": {
          "color": "gray",
          "dash": "dash",
          "width": 1
         },
         "mode": "lines",
         "showlegend": false,
         "type": "scatter3d",
         "x": [
          -0.11406345313304307,
          -0.1074924313385713
         ],
         "y": [
          0.3149762538712625,
          0.10291393493871394
         ],
         "z": [
          0,
          -0.027766842764412148
         ]
        },
        {
         "line": {
          "color": "blue",
          "width": 2
         },
         "mode": "lines",
         "showlegend": false,
         "type": "scatter3d",
         "x": [
          0.007761423598200137,
          -0.11406345313304307
         ],
         "y": [
          0.45792399229381026,
          0.3149762538712625
         ],
         "z": [
          0,
          0
         ]
        },
        {
         "line": {
          "color": "red",
          "width": 2
         },
         "mode": "lines",
         "showlegend": false,
         "type": "scatter3d",
         "x": [
          -0.025188987282463295,
          -0.1074924313385713
         ],
         "y": [
          0.2784659715342781,
          0.10291393493871394
         ],
         "z": [
          -0.11131012384394162,
          -0.027766842764412148
         ]
        },
        {
         "line": {
          "color": "blue",
          "width": 2
         },
         "mode": "lines",
         "showlegend": false,
         "type": "scatter3d",
         "x": [
          -0.11406345313304307,
          -0.14058983758258814
         ],
         "y": [
          0.3149762538712625,
          -0.16839341832044435
         ],
         "z": [
          0,
          0
         ]
        },
        {
         "line": {
          "color": "red",
          "width": 2
         },
         "mode": "lines",
         "showlegend": false,
         "type": "scatter3d",
         "x": [
          -0.1074924313385713,
          -0.04427986324317866
         ],
         "y": [
          0.10291393493871394,
          -0.034877272854621416
         ],
         "z": [
          -0.027766842764412148,
          0.08238713970369456
         ]
        },
        {
         "line": {
          "color": "blue",
          "width": 2
         },
         "mode": "lines",
         "showlegend": false,
         "type": "scatter3d",
         "x": [
          -0.11406345313304307,
          -0.08360723395023226
         ],
         "y": [
          0.3149762538712625,
          0.05069486805912985
         ],
         "z": [
          0,
          0
         ]
        },
        {
         "line": {
          "color": "red",
          "width": 2
         },
         "mode": "lines",
         "showlegend": false,
         "type": "scatter3d",
         "x": [
          -0.1074924313385713,
          -0.1663853205262682
         ],
         "y": [
          0.10291393493871394,
          -0.1846226833759011
         ],
         "z": [
          -0.027766842764412148,
          -0.04317289464342731
         ]
        },
        {
         "line": {
          "color": "blue",
          "width": 2
         },
         "mode": "lines",
         "showlegend": false,
         "type": "scatter3d",
         "x": [
          -0.08360723395023226,
          -0.04136151056762372
         ],
         "y": [
          0.05069486805912985,
          -0.47295561014855236
         ],
         "z": [
          0,
          0
         ]
        },
        {
         "line": {
          "color": "red",
          "width": 2
         },
         "mode": "lines",
         "showlegend": false,
         "type": "scatter3d",
         "x": [
          -0.1663853205262682,
          0.011176426324840378
         ],
         "y": [
          -0.1846226833759011,
          0.19009519153606796
         ],
         "z": [
          -0.04317289464342731,
          0.03268296983993477
         ]
        },
        {
         "line": {
          "color": "blue",
          "width": 2
         },
         "mode": "lines",
         "showlegend": false,
         "type": "scatter3d",
         "x": [
          -0.08360723395023226,
          -9.8245868331672e-05
         ],
         "y": [
          0.05069486805912985,
          0.08016862855862482
         ],
         "z": [
          0,
          0
         ]
        },
        {
         "line": {
          "color": "red",
          "width": 2
         },
         "mode": "lines",
         "showlegend": false,
         "type": "scatter3d",
         "x": [
          -0.1663853205262682,
          -0.08795099361059998
         ],
         "y": [
          -0.1846226833759011,
          -0.21116041470043156
         ],
         "z": [
          -0.04317289464342731,
          0.0813339763935485
         ]
        },
        {
         "line": {
          "color": "blue",
          "width": 2
         },
         "mode": "lines",
         "showlegend": false,
         "type": "scatter3d",
         "x": [
          -9.8245868331672e-05,
          0.08635811826351808
         ],
         "y": [
          0.08016862855862482,
          0.05167732674244697
         ],
         "z": [
          0,
          0
         ]
        },
        {
         "line": {
          "color": "red",
          "width": 2
         },
         "mode": "lines",
         "showlegend": false,
         "type": "scatter3d",
         "x": [
          -0.08795099361059998,
          0.07780856507063191
         ],
         "y": [
          -0.21116041470043156,
          -0.14256030628148472
         ],
         "z": [
          0.0813339763935485,
          -0.04980722177616148
         ]
        },
        {
         "line": {
          "color": "blue",
          "width": 2
         },
         "mode": "lines",
         "showlegend": false,
         "type": "scatter3d",
         "x": [
          0.08635811826351808,
          0.03920010146432742
         ],
         "y": [
          0.05167732674244697,
          -0.47099069278191935
         ],
         "z": [
          0,
          0
         ]
        },
        {
         "line": {
          "color": "red",
          "width": 2
         },
         "mode": "lines",
         "showlegend": false,
         "type": "scatter3d",
         "x": [
          0.07780856507063191,
          0.1496114968258724
         ],
         "y": [
          -0.14256030628148472,
          -0.1410189135432541
         ],
         "z": [
          -0.04980722177616148,
          -0.171009226725211
         ]
        },
        {
         "line": {
          "color": "blue",
          "width": 2
         },
         "mode": "lines",
         "showlegend": false,
         "type": "scatter3d",
         "x": [
          0.007761423598200137,
          0.12270908954622806
         ],
         "y": [
          0.45792399229381026,
          0.31546748321292106
         ],
         "z": [
          0,
          0
         ]
        },
        {
         "line": {
          "color": "red",
          "width": 2
         },
         "mode": "lines",
         "showlegend": false,
         "type": "scatter3d",
         "x": [
          -0.025188987282463295,
          0.0947958101801005
         ],
         "y": [
          0.2784659715342781,
          0.17747624833627315
         ],
         "z": [
          -0.11131012384394162,
          0.03753486658992634
         ]
        },
        {
         "line": {
          "color": "blue",
          "width": 2
         },
         "mode": "lines",
         "showlegend": false,
         "type": "scatter3d",
         "x": [
          0.12270908954622806,
          0.12369154822954513
         ],
         "y": [
          0.31546748321292106,
          -0.15856883148727907
         ],
         "z": [
          0,
          0
         ]
        },
        {
         "line": {
          "color": "red",
          "width": 2
         },
         "mode": "lines",
         "showlegend": false,
         "type": "scatter3d",
         "x": [
          0.0947958101801005,
          0.09790529759963623
         ],
         "y": [
          0.17747624833627315,
          -0.03471175558964026
         ],
         "z": [
          0.03753486658992634,
          0.1691273572260493
         ]
        },
        {
         "line": {
          "color": "blue",
          "width": 2
         },
         "mode": "lines",
         "showlegend": false,
         "type": "scatter3d",
         "x": [
          0.08635811826351808,
          0.12270908954622806
         ],
         "y": [
          0.05167732674244697,
          0.31546748321292106
         ],
         "z": [
          0,
          0
         ]
        },
        {
         "line": {
          "color": "red",
          "width": 2
         },
         "mode": "lines",
         "showlegend": false,
         "type": "scatter3d",
         "x": [
          0.07780856507063191,
          0.0947958101801005
         ],
         "y": [
          -0.14256030628148472,
          0.17747624833627315
         ],
         "z": [
          -0.04980722177616148,
          0.03753486658992634
         ]
        }
       ],
       "layout": {
        "scene": {
         "xaxis": {
          "title": {
           "text": "X"
          }
         },
         "yaxis": {
          "title": {
           "text": "Y"
          }
         },
         "zaxis": {
          "title": {
           "text": "Z"
          }
         }
        },
        "template": {
         "data": {
          "bar": [
           {
            "error_x": {
             "color": "#2a3f5f"
            },
            "error_y": {
             "color": "#2a3f5f"
            },
            "marker": {
             "line": {
              "color": "#E5ECF6",
              "width": 0.5
             },
             "pattern": {
              "fillmode": "overlay",
              "size": 10,
              "solidity": 0.2
             }
            },
            "type": "bar"
           }
          ],
          "barpolar": [
           {
            "marker": {
             "line": {
              "color": "#E5ECF6",
              "width": 0.5
             },
             "pattern": {
              "fillmode": "overlay",
              "size": 10,
              "solidity": 0.2
             }
            },
            "type": "barpolar"
           }
          ],
          "carpet": [
           {
            "aaxis": {
             "endlinecolor": "#2a3f5f",
             "gridcolor": "white",
             "linecolor": "white",
             "minorgridcolor": "white",
             "startlinecolor": "#2a3f5f"
            },
            "baxis": {
             "endlinecolor": "#2a3f5f",
             "gridcolor": "white",
             "linecolor": "white",
             "minorgridcolor": "white",
             "startlinecolor": "#2a3f5f"
            },
            "type": "carpet"
           }
          ],
          "choropleth": [
           {
            "colorbar": {
             "outlinewidth": 0,
             "ticks": ""
            },
            "type": "choropleth"
           }
          ],
          "contour": [
           {
            "colorbar": {
             "outlinewidth": 0,
             "ticks": ""
            },
            "colorscale": [
             [
              0,
              "#0d0887"
             ],
             [
              0.1111111111111111,
              "#46039f"
             ],
             [
              0.2222222222222222,
              "#7201a8"
             ],
             [
              0.3333333333333333,
              "#9c179e"
             ],
             [
              0.4444444444444444,
              "#bd3786"
             ],
             [
              0.5555555555555556,
              "#d8576b"
             ],
             [
              0.6666666666666666,
              "#ed7953"
             ],
             [
              0.7777777777777778,
              "#fb9f3a"
             ],
             [
              0.8888888888888888,
              "#fdca26"
             ],
             [
              1,
              "#f0f921"
             ]
            ],
            "type": "contour"
           }
          ],
          "contourcarpet": [
           {
            "colorbar": {
             "outlinewidth": 0,
             "ticks": ""
            },
            "type": "contourcarpet"
           }
          ],
          "heatmap": [
           {
            "colorbar": {
             "outlinewidth": 0,
             "ticks": ""
            },
            "colorscale": [
             [
              0,
              "#0d0887"
             ],
             [
              0.1111111111111111,
              "#46039f"
             ],
             [
              0.2222222222222222,
              "#7201a8"
             ],
             [
              0.3333333333333333,
              "#9c179e"
             ],
             [
              0.4444444444444444,
              "#bd3786"
             ],
             [
              0.5555555555555556,
              "#d8576b"
             ],
             [
              0.6666666666666666,
              "#ed7953"
             ],
             [
              0.7777777777777778,
              "#fb9f3a"
             ],
             [
              0.8888888888888888,
              "#fdca26"
             ],
             [
              1,
              "#f0f921"
             ]
            ],
            "type": "heatmap"
           }
          ],
          "heatmapgl": [
           {
            "colorbar": {
             "outlinewidth": 0,
             "ticks": ""
            },
            "colorscale": [
             [
              0,
              "#0d0887"
             ],
             [
              0.1111111111111111,
              "#46039f"
             ],
             [
              0.2222222222222222,
              "#7201a8"
             ],
             [
              0.3333333333333333,
              "#9c179e"
             ],
             [
              0.4444444444444444,
              "#bd3786"
             ],
             [
              0.5555555555555556,
              "#d8576b"
             ],
             [
              0.6666666666666666,
              "#ed7953"
             ],
             [
              0.7777777777777778,
              "#fb9f3a"
             ],
             [
              0.8888888888888888,
              "#fdca26"
             ],
             [
              1,
              "#f0f921"
             ]
            ],
            "type": "heatmapgl"
           }
          ],
          "histogram": [
           {
            "marker": {
             "pattern": {
              "fillmode": "overlay",
              "size": 10,
              "solidity": 0.2
             }
            },
            "type": "histogram"
           }
          ],
          "histogram2d": [
           {
            "colorbar": {
             "outlinewidth": 0,
             "ticks": ""
            },
            "colorscale": [
             [
              0,
              "#0d0887"
             ],
             [
              0.1111111111111111,
              "#46039f"
             ],
             [
              0.2222222222222222,
              "#7201a8"
             ],
             [
              0.3333333333333333,
              "#9c179e"
             ],
             [
              0.4444444444444444,
              "#bd3786"
             ],
             [
              0.5555555555555556,
              "#d8576b"
             ],
             [
              0.6666666666666666,
              "#ed7953"
             ],
             [
              0.7777777777777778,
              "#fb9f3a"
             ],
             [
              0.8888888888888888,
              "#fdca26"
             ],
             [
              1,
              "#f0f921"
             ]
            ],
            "type": "histogram2d"
           }
          ],
          "histogram2dcontour": [
           {
            "colorbar": {
             "outlinewidth": 0,
             "ticks": ""
            },
            "colorscale": [
             [
              0,
              "#0d0887"
             ],
             [
              0.1111111111111111,
              "#46039f"
             ],
             [
              0.2222222222222222,
              "#7201a8"
             ],
             [
              0.3333333333333333,
              "#9c179e"
             ],
             [
              0.4444444444444444,
              "#bd3786"
             ],
             [
              0.5555555555555556,
              "#d8576b"
             ],
             [
              0.6666666666666666,
              "#ed7953"
             ],
             [
              0.7777777777777778,
              "#fb9f3a"
             ],
             [
              0.8888888888888888,
              "#fdca26"
             ],
             [
              1,
              "#f0f921"
             ]
            ],
            "type": "histogram2dcontour"
           }
          ],
          "mesh3d": [
           {
            "colorbar": {
             "outlinewidth": 0,
             "ticks": ""
            },
            "type": "mesh3d"
           }
          ],
          "parcoords": [
           {
            "line": {
             "colorbar": {
              "outlinewidth": 0,
              "ticks": ""
             }
            },
            "type": "parcoords"
           }
          ],
          "pie": [
           {
            "automargin": true,
            "type": "pie"
           }
          ],
          "scatter": [
           {
            "fillpattern": {
             "fillmode": "overlay",
             "size": 10,
             "solidity": 0.2
            },
            "type": "scatter"
           }
          ],
          "scatter3d": [
           {
            "line": {
             "colorbar": {
              "outlinewidth": 0,
              "ticks": ""
             }
            },
            "marker": {
             "colorbar": {
              "outlinewidth": 0,
              "ticks": ""
             }
            },
            "type": "scatter3d"
           }
          ],
          "scattercarpet": [
           {
            "marker": {
             "colorbar": {
              "outlinewidth": 0,
              "ticks": ""
             }
            },
            "type": "scattercarpet"
           }
          ],
          "scattergeo": [
           {
            "marker": {
             "colorbar": {
              "outlinewidth": 0,
              "ticks": ""
             }
            },
            "type": "scattergeo"
           }
          ],
          "scattergl": [
           {
            "marker": {
             "colorbar": {
              "outlinewidth": 0,
              "ticks": ""
             }
            },
            "type": "scattergl"
           }
          ],
          "scattermapbox": [
           {
            "marker": {
             "colorbar": {
              "outlinewidth": 0,
              "ticks": ""
             }
            },
            "type": "scattermapbox"
           }
          ],
          "scatterpolar": [
           {
            "marker": {
             "colorbar": {
              "outlinewidth": 0,
              "ticks": ""
             }
            },
            "type": "scatterpolar"
           }
          ],
          "scatterpolargl": [
           {
            "marker": {
             "colorbar": {
              "outlinewidth": 0,
              "ticks": ""
             }
            },
            "type": "scatterpolargl"
           }
          ],
          "scatterternary": [
           {
            "marker": {
             "colorbar": {
              "outlinewidth": 0,
              "ticks": ""
             }
            },
            "type": "scatterternary"
           }
          ],
          "surface": [
           {
            "colorbar": {
             "outlinewidth": 0,
             "ticks": ""
            },
            "colorscale": [
             [
              0,
              "#0d0887"
             ],
             [
              0.1111111111111111,
              "#46039f"
             ],
             [
              0.2222222222222222,
              "#7201a8"
             ],
             [
              0.3333333333333333,
              "#9c179e"
             ],
             [
              0.4444444444444444,
              "#bd3786"
             ],
             [
              0.5555555555555556,
              "#d8576b"
             ],
             [
              0.6666666666666666,
              "#ed7953"
             ],
             [
              0.7777777777777778,
              "#fb9f3a"
             ],
             [
              0.8888888888888888,
              "#fdca26"
             ],
             [
              1,
              "#f0f921"
             ]
            ],
            "type": "surface"
           }
          ],
          "table": [
           {
            "cells": {
             "fill": {
              "color": "#EBF0F8"
             },
             "line": {
              "color": "white"
             }
            },
            "header": {
             "fill": {
              "color": "#C8D4E3"
             },
             "line": {
              "color": "white"
             }
            },
            "type": "table"
           }
          ]
         },
         "layout": {
          "annotationdefaults": {
           "arrowcolor": "#2a3f5f",
           "arrowhead": 0,
           "arrowwidth": 1
          },
          "autotypenumbers": "strict",
          "coloraxis": {
           "colorbar": {
            "outlinewidth": 0,
            "ticks": ""
           }
          },
          "colorscale": {
           "diverging": [
            [
             0,
             "#8e0152"
            ],
            [
             0.1,
             "#c51b7d"
            ],
            [
             0.2,
             "#de77ae"
            ],
            [
             0.3,
             "#f1b6da"
            ],
            [
             0.4,
             "#fde0ef"
            ],
            [
             0.5,
             "#f7f7f7"
            ],
            [
             0.6,
             "#e6f5d0"
            ],
            [
             0.7,
             "#b8e186"
            ],
            [
             0.8,
             "#7fbc41"
            ],
            [
             0.9,
             "#4d9221"
            ],
            [
             1,
             "#276419"
            ]
           ],
           "sequential": [
            [
             0,
             "#0d0887"
            ],
            [
             0.1111111111111111,
             "#46039f"
            ],
            [
             0.2222222222222222,
             "#7201a8"
            ],
            [
             0.3333333333333333,
             "#9c179e"
            ],
            [
             0.4444444444444444,
             "#bd3786"
            ],
            [
             0.5555555555555556,
             "#d8576b"
            ],
            [
             0.6666666666666666,
             "#ed7953"
            ],
            [
             0.7777777777777778,
             "#fb9f3a"
            ],
            [
             0.8888888888888888,
             "#fdca26"
            ],
            [
             1,
             "#f0f921"
            ]
           ],
           "sequentialminus": [
            [
             0,
             "#0d0887"
            ],
            [
             0.1111111111111111,
             "#46039f"
            ],
            [
             0.2222222222222222,
             "#7201a8"
            ],
            [
             0.3333333333333333,
             "#9c179e"
            ],
            [
             0.4444444444444444,
             "#bd3786"
            ],
            [
             0.5555555555555556,
             "#d8576b"
            ],
            [
             0.6666666666666666,
             "#ed7953"
            ],
            [
             0.7777777777777778,
             "#fb9f3a"
            ],
            [
             0.8888888888888888,
             "#fdca26"
            ],
            [
             1,
             "#f0f921"
            ]
           ]
          },
          "colorway": [
           "#636efa",
           "#EF553B",
           "#00cc96",
           "#ab63fa",
           "#FFA15A",
           "#19d3f3",
           "#FF6692",
           "#B6E880",
           "#FF97FF",
           "#FECB52"
          ],
          "font": {
           "color": "#2a3f5f"
          },
          "geo": {
           "bgcolor": "white",
           "lakecolor": "white",
           "landcolor": "#E5ECF6",
           "showlakes": true,
           "showland": true,
           "subunitcolor": "white"
          },
          "hoverlabel": {
           "align": "left"
          },
          "hovermode": "closest",
          "mapbox": {
           "style": "light"
          },
          "paper_bgcolor": "white",
          "plot_bgcolor": "#E5ECF6",
          "polar": {
           "angularaxis": {
            "gridcolor": "white",
            "linecolor": "white",
            "ticks": ""
           },
           "bgcolor": "#E5ECF6",
           "radialaxis": {
            "gridcolor": "white",
            "linecolor": "white",
            "ticks": ""
           }
          },
          "scene": {
           "xaxis": {
            "backgroundcolor": "#E5ECF6",
            "gridcolor": "white",
            "gridwidth": 2,
            "linecolor": "white",
            "showbackground": true,
            "ticks": "",
            "zerolinecolor": "white"
           },
           "yaxis": {
            "backgroundcolor": "#E5ECF6",
            "gridcolor": "white",
            "gridwidth": 2,
            "linecolor": "white",
            "showbackground": true,
            "ticks": "",
            "zerolinecolor": "white"
           },
           "zaxis": {
            "backgroundcolor": "#E5ECF6",
            "gridcolor": "white",
            "gridwidth": 2,
            "linecolor": "white",
            "showbackground": true,
            "ticks": "",
            "zerolinecolor": "white"
           }
          },
          "shapedefaults": {
           "line": {
            "color": "#2a3f5f"
           }
          },
          "ternary": {
           "aaxis": {
            "gridcolor": "white",
            "linecolor": "white",
            "ticks": ""
           },
           "baxis": {
            "gridcolor": "white",
            "linecolor": "white",
            "ticks": ""
           },
           "bgcolor": "#E5ECF6",
           "caxis": {
            "gridcolor": "white",
            "linecolor": "white",
            "ticks": ""
           }
          },
          "title": {
           "x": 0.05
          },
          "xaxis": {
           "automargin": true,
           "gridcolor": "white",
           "linecolor": "white",
           "ticks": "",
           "title": {
            "standoff": 15
           },
           "zerolinecolor": "white",
           "zerolinewidth": 2
          },
          "yaxis": {
           "automargin": true,
           "gridcolor": "white",
           "linecolor": "white",
           "ticks": "",
           "title": {
            "standoff": 15
           },
           "zerolinecolor": "white",
           "zerolinewidth": 2
          }
         }
        },
        "title": {
         "text": "Generalized Procrustes Analysis: Mean Shapes with Connections"
        }
       }
      },
      "text/html": [
       "<div>                            <div id=\"bdd625c7-0d5e-408c-82a2-35052263c33d\" class=\"plotly-graph-div\" style=\"height:525px; width:100%;\"></div>            <script type=\"text/javascript\">                require([\"plotly\"], function(Plotly) {                    window.PLOTLYENV=window.PLOTLYENV || {};                                    if (document.getElementById(\"bdd625c7-0d5e-408c-82a2-35052263c33d\")) {                    Plotly.newPlot(                        \"bdd625c7-0d5e-408c-82a2-35052263c33d\",                        [{\"marker\":{\"color\":\"blue\",\"size\":5},\"mode\":\"markers+text\",\"name\":\"Mean Actual Shape\",\"text\":[\"1\",\"2\",\"3\",\"4\",\"5\",\"6\",\"7\",\"8\",\"9\",\"10\"],\"textposition\":\"top center\",\"x\":[0.007761423598200137,0.12270908954622806,0.12369154822954513,0.08635811826351808,0.03920010146432742,-0.04136151056762372,-0.08360723395023226,-9.8245868331672e-05,-0.14058983758258814,-0.11406345313304307],\"y\":[0.45792399229381026,0.31546748321292106,-0.15856883148727907,0.05167732674244697,-0.47099069278191935,-0.47295561014855236,0.05069486805912985,0.08016862855862482,-0.16839341832044435,0.3149762538712625],\"z\":[0.0,0.0,0.0,0.0,0.0,0.0,0.0,0.0,0.0,0.0],\"type\":\"scatter3d\"},{\"marker\":{\"color\":\"red\",\"size\":5},\"mode\":\"markers+text\",\"name\":\"Mean Perceived Shape\",\"text\":[\"1\",\"2\",\"3\",\"4\",\"5\",\"6\",\"7\",\"8\",\"9\",\"10\"],\"textposition\":\"top center\",\"x\":[-0.025188987282463295,0.0947958101801005,0.09790529759963623,0.07780856507063191,0.1496114968258724,0.011176426324840378,-0.1663853205262682,-0.08795099361059998,-0.04427986324317866,-0.1074924313385713],\"y\":[0.2784659715342781,0.17747624833627315,-0.03471175558964026,-0.14256030628148472,-0.1410189135432541,0.19009519153606796,-0.1846226833759011,-0.21116041470043156,-0.034877272854621416,0.10291393493871394],\"z\":[-0.11131012384394162,0.03753486658992634,0.1691273572260493,-0.04980722177616148,-0.171009226725211,0.03268296983993477,-0.04317289464342731,0.0813339763935485,0.08238713970369456,-0.027766842764412148],\"type\":\"scatter3d\"},{\"line\":{\"color\":\"gray\",\"dash\":\"dash\",\"width\":1},\"mode\":\"lines\",\"showlegend\":false,\"x\":[0.007761423598200137,-0.025188987282463295],\"y\":[0.45792399229381026,0.2784659715342781],\"z\":[0.0,-0.11131012384394162],\"type\":\"scatter3d\"},{\"line\":{\"color\":\"gray\",\"dash\":\"dash\",\"width\":1},\"mode\":\"lines\",\"showlegend\":false,\"x\":[0.12270908954622806,0.0947958101801005],\"y\":[0.31546748321292106,0.17747624833627315],\"z\":[0.0,0.03753486658992634],\"type\":\"scatter3d\"},{\"line\":{\"color\":\"gray\",\"dash\":\"dash\",\"width\":1},\"mode\":\"lines\",\"showlegend\":false,\"x\":[0.12369154822954513,0.09790529759963623],\"y\":[-0.15856883148727907,-0.03471175558964026],\"z\":[0.0,0.1691273572260493],\"type\":\"scatter3d\"},{\"line\":{\"color\":\"gray\",\"dash\":\"dash\",\"width\":1},\"mode\":\"lines\",\"showlegend\":false,\"x\":[0.08635811826351808,0.07780856507063191],\"y\":[0.05167732674244697,-0.14256030628148472],\"z\":[0.0,-0.04980722177616148],\"type\":\"scatter3d\"},{\"line\":{\"color\":\"gray\",\"dash\":\"dash\",\"width\":1},\"mode\":\"lines\",\"showlegend\":false,\"x\":[0.03920010146432742,0.1496114968258724],\"y\":[-0.47099069278191935,-0.1410189135432541],\"z\":[0.0,-0.171009226725211],\"type\":\"scatter3d\"},{\"line\":{\"color\":\"gray\",\"dash\":\"dash\",\"width\":1},\"mode\":\"lines\",\"showlegend\":false,\"x\":[-0.04136151056762372,0.011176426324840378],\"y\":[-0.47295561014855236,0.19009519153606796],\"z\":[0.0,0.03268296983993477],\"type\":\"scatter3d\"},{\"line\":{\"color\":\"gray\",\"dash\":\"dash\",\"width\":1},\"mode\":\"lines\",\"showlegend\":false,\"x\":[-0.08360723395023226,-0.1663853205262682],\"y\":[0.05069486805912985,-0.1846226833759011],\"z\":[0.0,-0.04317289464342731],\"type\":\"scatter3d\"},{\"line\":{\"color\":\"gray\",\"dash\":\"dash\",\"width\":1},\"mode\":\"lines\",\"showlegend\":false,\"x\":[-9.8245868331672e-05,-0.08795099361059998],\"y\":[0.08016862855862482,-0.21116041470043156],\"z\":[0.0,0.0813339763935485],\"type\":\"scatter3d\"},{\"line\":{\"color\":\"gray\",\"dash\":\"dash\",\"width\":1},\"mode\":\"lines\",\"showlegend\":false,\"x\":[-0.14058983758258814,-0.04427986324317866],\"y\":[-0.16839341832044435,-0.034877272854621416],\"z\":[0.0,0.08238713970369456],\"type\":\"scatter3d\"},{\"line\":{\"color\":\"gray\",\"dash\":\"dash\",\"width\":1},\"mode\":\"lines\",\"showlegend\":false,\"x\":[-0.11406345313304307,-0.1074924313385713],\"y\":[0.3149762538712625,0.10291393493871394],\"z\":[0.0,-0.027766842764412148],\"type\":\"scatter3d\"},{\"line\":{\"color\":\"blue\",\"width\":2},\"mode\":\"lines\",\"showlegend\":false,\"x\":[0.007761423598200137,-0.11406345313304307],\"y\":[0.45792399229381026,0.3149762538712625],\"z\":[0.0,0.0],\"type\":\"scatter3d\"},{\"line\":{\"color\":\"red\",\"width\":2},\"mode\":\"lines\",\"showlegend\":false,\"x\":[-0.025188987282463295,-0.1074924313385713],\"y\":[0.2784659715342781,0.10291393493871394],\"z\":[-0.11131012384394162,-0.027766842764412148],\"type\":\"scatter3d\"},{\"line\":{\"color\":\"blue\",\"width\":2},\"mode\":\"lines\",\"showlegend\":false,\"x\":[-0.11406345313304307,-0.14058983758258814],\"y\":[0.3149762538712625,-0.16839341832044435],\"z\":[0.0,0.0],\"type\":\"scatter3d\"},{\"line\":{\"color\":\"red\",\"width\":2},\"mode\":\"lines\",\"showlegend\":false,\"x\":[-0.1074924313385713,-0.04427986324317866],\"y\":[0.10291393493871394,-0.034877272854621416],\"z\":[-0.027766842764412148,0.08238713970369456],\"type\":\"scatter3d\"},{\"line\":{\"color\":\"blue\",\"width\":2},\"mode\":\"lines\",\"showlegend\":false,\"x\":[-0.11406345313304307,-0.08360723395023226],\"y\":[0.3149762538712625,0.05069486805912985],\"z\":[0.0,0.0],\"type\":\"scatter3d\"},{\"line\":{\"color\":\"red\",\"width\":2},\"mode\":\"lines\",\"showlegend\":false,\"x\":[-0.1074924313385713,-0.1663853205262682],\"y\":[0.10291393493871394,-0.1846226833759011],\"z\":[-0.027766842764412148,-0.04317289464342731],\"type\":\"scatter3d\"},{\"line\":{\"color\":\"blue\",\"width\":2},\"mode\":\"lines\",\"showlegend\":false,\"x\":[-0.08360723395023226,-0.04136151056762372],\"y\":[0.05069486805912985,-0.47295561014855236],\"z\":[0.0,0.0],\"type\":\"scatter3d\"},{\"line\":{\"color\":\"red\",\"width\":2},\"mode\":\"lines\",\"showlegend\":false,\"x\":[-0.1663853205262682,0.011176426324840378],\"y\":[-0.1846226833759011,0.19009519153606796],\"z\":[-0.04317289464342731,0.03268296983993477],\"type\":\"scatter3d\"},{\"line\":{\"color\":\"blue\",\"width\":2},\"mode\":\"lines\",\"showlegend\":false,\"x\":[-0.08360723395023226,-9.8245868331672e-05],\"y\":[0.05069486805912985,0.08016862855862482],\"z\":[0.0,0.0],\"type\":\"scatter3d\"},{\"line\":{\"color\":\"red\",\"width\":2},\"mode\":\"lines\",\"showlegend\":false,\"x\":[-0.1663853205262682,-0.08795099361059998],\"y\":[-0.1846226833759011,-0.21116041470043156],\"z\":[-0.04317289464342731,0.0813339763935485],\"type\":\"scatter3d\"},{\"line\":{\"color\":\"blue\",\"width\":2},\"mode\":\"lines\",\"showlegend\":false,\"x\":[-9.8245868331672e-05,0.08635811826351808],\"y\":[0.08016862855862482,0.05167732674244697],\"z\":[0.0,0.0],\"type\":\"scatter3d\"},{\"line\":{\"color\":\"red\",\"width\":2},\"mode\":\"lines\",\"showlegend\":false,\"x\":[-0.08795099361059998,0.07780856507063191],\"y\":[-0.21116041470043156,-0.14256030628148472],\"z\":[0.0813339763935485,-0.04980722177616148],\"type\":\"scatter3d\"},{\"line\":{\"color\":\"blue\",\"width\":2},\"mode\":\"lines\",\"showlegend\":false,\"x\":[0.08635811826351808,0.03920010146432742],\"y\":[0.05167732674244697,-0.47099069278191935],\"z\":[0.0,0.0],\"type\":\"scatter3d\"},{\"line\":{\"color\":\"red\",\"width\":2},\"mode\":\"lines\",\"showlegend\":false,\"x\":[0.07780856507063191,0.1496114968258724],\"y\":[-0.14256030628148472,-0.1410189135432541],\"z\":[-0.04980722177616148,-0.171009226725211],\"type\":\"scatter3d\"},{\"line\":{\"color\":\"blue\",\"width\":2},\"mode\":\"lines\",\"showlegend\":false,\"x\":[0.007761423598200137,0.12270908954622806],\"y\":[0.45792399229381026,0.31546748321292106],\"z\":[0.0,0.0],\"type\":\"scatter3d\"},{\"line\":{\"color\":\"red\",\"width\":2},\"mode\":\"lines\",\"showlegend\":false,\"x\":[-0.025188987282463295,0.0947958101801005],\"y\":[0.2784659715342781,0.17747624833627315],\"z\":[-0.11131012384394162,0.03753486658992634],\"type\":\"scatter3d\"},{\"line\":{\"color\":\"blue\",\"width\":2},\"mode\":\"lines\",\"showlegend\":false,\"x\":[0.12270908954622806,0.12369154822954513],\"y\":[0.31546748321292106,-0.15856883148727907],\"z\":[0.0,0.0],\"type\":\"scatter3d\"},{\"line\":{\"color\":\"red\",\"width\":2},\"mode\":\"lines\",\"showlegend\":false,\"x\":[0.0947958101801005,0.09790529759963623],\"y\":[0.17747624833627315,-0.03471175558964026],\"z\":[0.03753486658992634,0.1691273572260493],\"type\":\"scatter3d\"},{\"line\":{\"color\":\"blue\",\"width\":2},\"mode\":\"lines\",\"showlegend\":false,\"x\":[0.08635811826351808,0.12270908954622806],\"y\":[0.05167732674244697,0.31546748321292106],\"z\":[0.0,0.0],\"type\":\"scatter3d\"},{\"line\":{\"color\":\"red\",\"width\":2},\"mode\":\"lines\",\"showlegend\":false,\"x\":[0.07780856507063191,0.0947958101801005],\"y\":[-0.14256030628148472,0.17747624833627315],\"z\":[-0.04980722177616148,0.03753486658992634],\"type\":\"scatter3d\"}],                        {\"template\":{\"data\":{\"histogram2dcontour\":[{\"type\":\"histogram2dcontour\",\"colorbar\":{\"outlinewidth\":0,\"ticks\":\"\"},\"colorscale\":[[0.0,\"#0d0887\"],[0.1111111111111111,\"#46039f\"],[0.2222222222222222,\"#7201a8\"],[0.3333333333333333,\"#9c179e\"],[0.4444444444444444,\"#bd3786\"],[0.5555555555555556,\"#d8576b\"],[0.6666666666666666,\"#ed7953\"],[0.7777777777777778,\"#fb9f3a\"],[0.8888888888888888,\"#fdca26\"],[1.0,\"#f0f921\"]]}],\"choropleth\":[{\"type\":\"choropleth\",\"colorbar\":{\"outlinewidth\":0,\"ticks\":\"\"}}],\"histogram2d\":[{\"type\":\"histogram2d\",\"colorbar\":{\"outlinewidth\":0,\"ticks\":\"\"},\"colorscale\":[[0.0,\"#0d0887\"],[0.1111111111111111,\"#46039f\"],[0.2222222222222222,\"#7201a8\"],[0.3333333333333333,\"#9c179e\"],[0.4444444444444444,\"#bd3786\"],[0.5555555555555556,\"#d8576b\"],[0.6666666666666666,\"#ed7953\"],[0.7777777777777778,\"#fb9f3a\"],[0.8888888888888888,\"#fdca26\"],[1.0,\"#f0f921\"]]}],\"heatmap\":[{\"type\":\"heatmap\",\"colorbar\":{\"outlinewidth\":0,\"ticks\":\"\"},\"colorscale\":[[0.0,\"#0d0887\"],[0.1111111111111111,\"#46039f\"],[0.2222222222222222,\"#7201a8\"],[0.3333333333333333,\"#9c179e\"],[0.4444444444444444,\"#bd3786\"],[0.5555555555555556,\"#d8576b\"],[0.6666666666666666,\"#ed7953\"],[0.7777777777777778,\"#fb9f3a\"],[0.8888888888888888,\"#fdca26\"],[1.0,\"#f0f921\"]]}],\"heatmapgl\":[{\"type\":\"heatmapgl\",\"colorbar\":{\"outlinewidth\":0,\"ticks\":\"\"},\"colorscale\":[[0.0,\"#0d0887\"],[0.1111111111111111,\"#46039f\"],[0.2222222222222222,\"#7201a8\"],[0.3333333333333333,\"#9c179e\"],[0.4444444444444444,\"#bd3786\"],[0.5555555555555556,\"#d8576b\"],[0.6666666666666666,\"#ed7953\"],[0.7777777777777778,\"#fb9f3a\"],[0.8888888888888888,\"#fdca26\"],[1.0,\"#f0f921\"]]}],\"contourcarpet\":[{\"type\":\"contourcarpet\",\"colorbar\":{\"outlinewidth\":0,\"ticks\":\"\"}}],\"contour\":[{\"type\":\"contour\",\"colorbar\":{\"outlinewidth\":0,\"ticks\":\"\"},\"colorscale\":[[0.0,\"#0d0887\"],[0.1111111111111111,\"#46039f\"],[0.2222222222222222,\"#7201a8\"],[0.3333333333333333,\"#9c179e\"],[0.4444444444444444,\"#bd3786\"],[0.5555555555555556,\"#d8576b\"],[0.6666666666666666,\"#ed7953\"],[0.7777777777777778,\"#fb9f3a\"],[0.8888888888888888,\"#fdca26\"],[1.0,\"#f0f921\"]]}],\"surface\":[{\"type\":\"surface\",\"colorbar\":{\"outlinewidth\":0,\"ticks\":\"\"},\"colorscale\":[[0.0,\"#0d0887\"],[0.1111111111111111,\"#46039f\"],[0.2222222222222222,\"#7201a8\"],[0.3333333333333333,\"#9c179e\"],[0.4444444444444444,\"#bd3786\"],[0.5555555555555556,\"#d8576b\"],[0.6666666666666666,\"#ed7953\"],[0.7777777777777778,\"#fb9f3a\"],[0.8888888888888888,\"#fdca26\"],[1.0,\"#f0f921\"]]}],\"mesh3d\":[{\"type\":\"mesh3d\",\"colorbar\":{\"outlinewidth\":0,\"ticks\":\"\"}}],\"scatter\":[{\"fillpattern\":{\"fillmode\":\"overlay\",\"size\":10,\"solidity\":0.2},\"type\":\"scatter\"}],\"parcoords\":[{\"type\":\"parcoords\",\"line\":{\"colorbar\":{\"outlinewidth\":0,\"ticks\":\"\"}}}],\"scatterpolargl\":[{\"type\":\"scatterpolargl\",\"marker\":{\"colorbar\":{\"outlinewidth\":0,\"ticks\":\"\"}}}],\"bar\":[{\"error_x\":{\"color\":\"#2a3f5f\"},\"error_y\":{\"color\":\"#2a3f5f\"},\"marker\":{\"line\":{\"color\":\"#E5ECF6\",\"width\":0.5},\"pattern\":{\"fillmode\":\"overlay\",\"size\":10,\"solidity\":0.2}},\"type\":\"bar\"}],\"scattergeo\":[{\"type\":\"scattergeo\",\"marker\":{\"colorbar\":{\"outlinewidth\":0,\"ticks\":\"\"}}}],\"scatterpolar\":[{\"type\":\"scatterpolar\",\"marker\":{\"colorbar\":{\"outlinewidth\":0,\"ticks\":\"\"}}}],\"histogram\":[{\"marker\":{\"pattern\":{\"fillmode\":\"overlay\",\"size\":10,\"solidity\":0.2}},\"type\":\"histogram\"}],\"scattergl\":[{\"type\":\"scattergl\",\"marker\":{\"colorbar\":{\"outlinewidth\":0,\"ticks\":\"\"}}}],\"scatter3d\":[{\"type\":\"scatter3d\",\"line\":{\"colorbar\":{\"outlinewidth\":0,\"ticks\":\"\"}},\"marker\":{\"colorbar\":{\"outlinewidth\":0,\"ticks\":\"\"}}}],\"scattermapbox\":[{\"type\":\"scattermapbox\",\"marker\":{\"colorbar\":{\"outlinewidth\":0,\"ticks\":\"\"}}}],\"scatterternary\":[{\"type\":\"scatterternary\",\"marker\":{\"colorbar\":{\"outlinewidth\":0,\"ticks\":\"\"}}}],\"scattercarpet\":[{\"type\":\"scattercarpet\",\"marker\":{\"colorbar\":{\"outlinewidth\":0,\"ticks\":\"\"}}}],\"carpet\":[{\"aaxis\":{\"endlinecolor\":\"#2a3f5f\",\"gridcolor\":\"white\",\"linecolor\":\"white\",\"minorgridcolor\":\"white\",\"startlinecolor\":\"#2a3f5f\"},\"baxis\":{\"endlinecolor\":\"#2a3f5f\",\"gridcolor\":\"white\",\"linecolor\":\"white\",\"minorgridcolor\":\"white\",\"startlinecolor\":\"#2a3f5f\"},\"type\":\"carpet\"}],\"table\":[{\"cells\":{\"fill\":{\"color\":\"#EBF0F8\"},\"line\":{\"color\":\"white\"}},\"header\":{\"fill\":{\"color\":\"#C8D4E3\"},\"line\":{\"color\":\"white\"}},\"type\":\"table\"}],\"barpolar\":[{\"marker\":{\"line\":{\"color\":\"#E5ECF6\",\"width\":0.5},\"pattern\":{\"fillmode\":\"overlay\",\"size\":10,\"solidity\":0.2}},\"type\":\"barpolar\"}],\"pie\":[{\"automargin\":true,\"type\":\"pie\"}]},\"layout\":{\"autotypenumbers\":\"strict\",\"colorway\":[\"#636efa\",\"#EF553B\",\"#00cc96\",\"#ab63fa\",\"#FFA15A\",\"#19d3f3\",\"#FF6692\",\"#B6E880\",\"#FF97FF\",\"#FECB52\"],\"font\":{\"color\":\"#2a3f5f\"},\"hovermode\":\"closest\",\"hoverlabel\":{\"align\":\"left\"},\"paper_bgcolor\":\"white\",\"plot_bgcolor\":\"#E5ECF6\",\"polar\":{\"bgcolor\":\"#E5ECF6\",\"angularaxis\":{\"gridcolor\":\"white\",\"linecolor\":\"white\",\"ticks\":\"\"},\"radialaxis\":{\"gridcolor\":\"white\",\"linecolor\":\"white\",\"ticks\":\"\"}},\"ternary\":{\"bgcolor\":\"#E5ECF6\",\"aaxis\":{\"gridcolor\":\"white\",\"linecolor\":\"white\",\"ticks\":\"\"},\"baxis\":{\"gridcolor\":\"white\",\"linecolor\":\"white\",\"ticks\":\"\"},\"caxis\":{\"gridcolor\":\"white\",\"linecolor\":\"white\",\"ticks\":\"\"}},\"coloraxis\":{\"colorbar\":{\"outlinewidth\":0,\"ticks\":\"\"}},\"colorscale\":{\"sequential\":[[0.0,\"#0d0887\"],[0.1111111111111111,\"#46039f\"],[0.2222222222222222,\"#7201a8\"],[0.3333333333333333,\"#9c179e\"],[0.4444444444444444,\"#bd3786\"],[0.5555555555555556,\"#d8576b\"],[0.6666666666666666,\"#ed7953\"],[0.7777777777777778,\"#fb9f3a\"],[0.8888888888888888,\"#fdca26\"],[1.0,\"#f0f921\"]],\"sequentialminus\":[[0.0,\"#0d0887\"],[0.1111111111111111,\"#46039f\"],[0.2222222222222222,\"#7201a8\"],[0.3333333333333333,\"#9c179e\"],[0.4444444444444444,\"#bd3786\"],[0.5555555555555556,\"#d8576b\"],[0.6666666666666666,\"#ed7953\"],[0.7777777777777778,\"#fb9f3a\"],[0.8888888888888888,\"#fdca26\"],[1.0,\"#f0f921\"]],\"diverging\":[[0,\"#8e0152\"],[0.1,\"#c51b7d\"],[0.2,\"#de77ae\"],[0.3,\"#f1b6da\"],[0.4,\"#fde0ef\"],[0.5,\"#f7f7f7\"],[0.6,\"#e6f5d0\"],[0.7,\"#b8e186\"],[0.8,\"#7fbc41\"],[0.9,\"#4d9221\"],[1,\"#276419\"]]},\"xaxis\":{\"gridcolor\":\"white\",\"linecolor\":\"white\",\"ticks\":\"\",\"title\":{\"standoff\":15},\"zerolinecolor\":\"white\",\"automargin\":true,\"zerolinewidth\":2},\"yaxis\":{\"gridcolor\":\"white\",\"linecolor\":\"white\",\"ticks\":\"\",\"title\":{\"standoff\":15},\"zerolinecolor\":\"white\",\"automargin\":true,\"zerolinewidth\":2},\"scene\":{\"xaxis\":{\"backgroundcolor\":\"#E5ECF6\",\"gridcolor\":\"white\",\"linecolor\":\"white\",\"showbackground\":true,\"ticks\":\"\",\"zerolinecolor\":\"white\",\"gridwidth\":2},\"yaxis\":{\"backgroundcolor\":\"#E5ECF6\",\"gridcolor\":\"white\",\"linecolor\":\"white\",\"showbackground\":true,\"ticks\":\"\",\"zerolinecolor\":\"white\",\"gridwidth\":2},\"zaxis\":{\"backgroundcolor\":\"#E5ECF6\",\"gridcolor\":\"white\",\"linecolor\":\"white\",\"showbackground\":true,\"ticks\":\"\",\"zerolinecolor\":\"white\",\"gridwidth\":2}},\"shapedefaults\":{\"line\":{\"color\":\"#2a3f5f\"}},\"annotationdefaults\":{\"arrowcolor\":\"#2a3f5f\",\"arrowhead\":0,\"arrowwidth\":1},\"geo\":{\"bgcolor\":\"white\",\"landcolor\":\"#E5ECF6\",\"subunitcolor\":\"white\",\"showland\":true,\"showlakes\":true,\"lakecolor\":\"white\"},\"title\":{\"x\":0.05},\"mapbox\":{\"style\":\"light\"}}},\"title\":{\"text\":\"Generalized Procrustes Analysis: Mean Shapes with Connections\"},\"scene\":{\"xaxis\":{\"title\":{\"text\":\"X\"}},\"yaxis\":{\"title\":{\"text\":\"Y\"}},\"zaxis\":{\"title\":{\"text\":\"Z\"}}}},                        {\"responsive\": true}                    ).then(function(){\n",
       "                            \n",
       "var gd = document.getElementById('bdd625c7-0d5e-408c-82a2-35052263c33d');\n",
       "var x = new MutationObserver(function (mutations, observer) {{\n",
       "        var display = window.getComputedStyle(gd).display;\n",
       "        if (!display || display === 'none') {{\n",
       "            console.log([gd, 'removed!']);\n",
       "            Plotly.purge(gd);\n",
       "            observer.disconnect();\n",
       "        }}\n",
       "}});\n",
       "\n",
       "// Listen for the removal of the full notebook cells\n",
       "var notebookContainer = gd.closest('#notebook-container');\n",
       "if (notebookContainer) {{\n",
       "    x.observe(notebookContainer, {childList: true});\n",
       "}}\n",
       "\n",
       "// Listen for the clearing of the current output cell\n",
       "var outputEl = gd.closest('.output');\n",
       "if (outputEl) {{\n",
       "    x.observe(outputEl, {childList: true});\n",
       "}}\n",
       "\n",
       "                        })                };                });            </script>        </div>"
      ]
     },
     "metadata": {},
     "output_type": "display_data"
    }
   ],
   "source": [
    "fig.update_layout(title='Generalized Procrustes Analysis: Mean Shapes with Connections', \n",
    "                  scene=dict(xaxis_title='X', yaxis_title='Y', zaxis_title='Z'))\n",
    "fig.show()"
   ]
  },
  {
   "cell_type": "code",
   "execution_count": null,
   "id": "4c7ba3ee",
   "metadata": {},
   "outputs": [],
   "source": []
  }
 ],
 "metadata": {
  "kernelspec": {
   "display_name": "Python 3 (ipykernel)",
   "language": "python",
   "name": "python3"
  },
  "language_info": {
   "codemirror_mode": {
    "name": "ipython",
    "version": 3
   },
   "file_extension": ".py",
   "mimetype": "text/x-python",
   "name": "python",
   "nbconvert_exporter": "python",
   "pygments_lexer": "ipython3",
   "version": "3.11.7"
  }
 },
 "nbformat": 4,
 "nbformat_minor": 5
}
